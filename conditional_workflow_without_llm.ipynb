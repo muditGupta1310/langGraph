{
 "cells": [
  {
   "cell_type": "code",
   "execution_count": 9,
   "id": "544bddd7",
   "metadata": {},
   "outputs": [],
   "source": [
    "from langgraph.graph import StateGraph, START,END\n",
    "from typing import TypedDict, Literal\n",
    "import math"
   ]
  },
  {
   "cell_type": "code",
   "execution_count": 3,
   "id": "e16cac8d",
   "metadata": {},
   "outputs": [],
   "source": [
    "class QuadState(TypedDict):\n",
    "    a : int\n",
    "    b : int \n",
    "    c : int\n",
    "\n",
    "    equation : str\n",
    "    D : float\n",
    "    result : str"
   ]
  },
  {
   "cell_type": "code",
   "execution_count": null,
   "id": "2b1eae6b",
   "metadata": {},
   "outputs": [],
   "source": [
    "def show_equation(state:QuadState):\n",
    "    a = state['a']\n",
    "    b = state['b']\n",
    "    c = state['c']\n",
    "\n",
    "    equation = f'{a}x**2 + {b}x + c'\n",
    "\n",
    "    return {'equation' : equation}"
   ]
  },
  {
   "cell_type": "code",
   "execution_count": 13,
   "id": "2d052876",
   "metadata": {},
   "outputs": [],
   "source": [
    "def calculate_discriminant(state:QuadState):\n",
    "    a = state['a']\n",
    "    b = state['b']\n",
    "    c = state['c']\n",
    "\n",
    "    D = b**2 - 4*a*c\n",
    "\n",
    "    return {'D' : D}\n"
   ]
  },
  {
   "cell_type": "code",
   "execution_count": null,
   "id": "a9796b75",
   "metadata": {},
   "outputs": [
    {
     "ename": "TypeError",
     "evalue": "StateGraph.add_node() missing 1 required positional argument: 'node'",
     "output_type": "error",
     "traceback": [
      "\u001b[1;31m---------------------------------------------------------------------------\u001b[0m",
      "\u001b[1;31mTypeError\u001b[0m                                 Traceback (most recent call last)",
      "Cell \u001b[1;32mIn[4], line 3\u001b[0m\n\u001b[0;32m      1\u001b[0m graph \u001b[38;5;241m=\u001b[39m StateGraph(QuadState)\n\u001b[1;32m----> 3\u001b[0m \u001b[43mgraph\u001b[49m\u001b[38;5;241;43m.\u001b[39;49m\u001b[43madd_node\u001b[49m\u001b[43m(\u001b[49m\u001b[43m)\u001b[49m\n",
      "\u001b[1;31mTypeError\u001b[0m: StateGraph.add_node() missing 1 required positional argument: 'node'"
     ]
    }
   ],
   "source": [
    "graph = StateGraph(QuadState)\n",
    "\n",
    "graph.add_node('show_equation', show_equation)\n",
    "graph.add_node('calculate_discriminant',calculate_discriminant)\n"
   ]
  },
  {
   "cell_type": "code",
   "execution_count": null,
   "id": "276b7748",
   "metadata": {},
   "outputs": [],
   "source": []
  }
 ],
 "metadata": {
  "kernelspec": {
   "display_name": "venv",
   "language": "python",
   "name": "python3"
  },
  "language_info": {
   "codemirror_mode": {
    "name": "ipython",
    "version": 3
   },
   "file_extension": ".py",
   "mimetype": "text/x-python",
   "name": "python",
   "nbconvert_exporter": "python",
   "pygments_lexer": "ipython3",
   "version": "3.10.11"
  }
 },
 "nbformat": 4,
 "nbformat_minor": 5
}
