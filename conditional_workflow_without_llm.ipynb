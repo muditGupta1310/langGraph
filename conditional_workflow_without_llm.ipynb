{
 "cells": [
  {
   "cell_type": "code",
   "execution_count": 9,
   "id": "544bddd7",
   "metadata": {},
   "outputs": [],
   "source": [
    "from langgraph.graph import StateGraph, START,END\n",
    "from typing import TypedDict, Literal\n",
    "import math"
   ]
  },
  {
   "cell_type": "code",
   "execution_count": 3,
   "id": "e16cac8d",
   "metadata": {},
   "outputs": [],
   "source": [
    "class QuadState(TypedDict):\n",
    "    a : int\n",
    "    b : int \n",
    "    c : int\n",
    "\n",
    "    equation : str\n",
    "    D : float\n",
    "    result : str"
   ]
  },
  {
   "cell_type": "code",
   "execution_count": 15,
   "id": "2b1eae6b",
   "metadata": {},
   "outputs": [],
   "source": [
    "def show_equation(state:QuadState):\n",
    "    a = state['a']\n",
    "    b = state['b']\n",
    "    c = state['c']\n",
    "\n",
    "    equation = f'{a}x**2 + {b}x + c'\n",
    "\n",
    "    return {'equation' : equation}"
   ]
  },
  {
   "cell_type": "code",
   "execution_count": 16,
   "id": "2d052876",
   "metadata": {},
   "outputs": [],
   "source": [
    "def calculate_discriminant(state:QuadState):\n",
    "    a = state['a']\n",
    "    b = state['b']\n",
    "    c = state['c']\n",
    "\n",
    "    D = b**2 - 4*a*c\n",
    "\n",
    "    return {'D' : D}\n"
   ]
  },
  {
   "cell_type": "code",
   "execution_count": 25,
   "id": "3cd4be54",
   "metadata": {},
   "outputs": [],
   "source": [
    "def real_roots(state:QuadState):\n",
    "    a = state['a']\n",
    "    b = state['b']\n",
    "    D = state['D']\n",
    "\n",
    "    root1 = (-b + math.sqrt(D))/(2*a)\n",
    "\n",
    "    root2 = -(-b + math.sqrt(D))/(2*a)\n",
    "\n",
    "\n",
    "    result = f'{root1} and {root2}'\n",
    "\n",
    "    return {'result':result}\n",
    "\n",
    "\n"
   ]
  },
  {
   "cell_type": "code",
   "execution_count": 26,
   "id": "21a86f22",
   "metadata": {},
   "outputs": [],
   "source": [
    "def equal_roots(state:QuadState):\n",
    "    a = state['a']\n",
    "    b = state['b']\n",
    "    D = state['D']\n",
    "\n",
    "    root = (-b)/(2*a)\n",
    "\n",
    "\n",
    "    result = f'{root} and {root}'\n",
    "\n",
    "    return {'result':result}\n",
    "\n",
    "\n"
   ]
  },
  {
   "cell_type": "code",
   "execution_count": 38,
   "id": "594bcccf",
   "metadata": {},
   "outputs": [],
   "source": [
    "def no_real_roots(state:QuadState):\n",
    "\n",
    "    return {'result': 'No Real Roots'}\n",
    "\n",
    "\n",
    "def check_condition(state:QuadState) -> Literal['real_roots', 'equal_roots','no_real_roots']:\n",
    "    if state['D'] > 0:\n",
    "        return 'real_roots'\n",
    "    elif state['D'] == 0:\n",
    "        return 'equal_roots'\n",
    "    else:\n",
    "        return 'no_real_roots'\n"
   ]
  },
  {
   "cell_type": "code",
   "execution_count": 42,
   "id": "a9796b75",
   "metadata": {},
   "outputs": [],
   "source": [
    "graph = StateGraph(QuadState)\n",
    "\n",
    "graph.add_node('show_equation', show_equation)\n",
    "graph.add_node('calculate_discriminant',calculate_discriminant)\n",
    "graph.add_node('real_roots', real_roots)\n",
    "graph.add_node('equal_roots',equal_roots)\n",
    "graph.add_node('no_real_roots',no_real_roots)\n",
    "\n",
    "\n",
    "graph.add_edge(START, 'show_equation')\n",
    "graph.add_edge('show_equation','calculate_discriminant')\n",
    "graph.add_conditional_edges('calculate_discriminant',check_condition)\n",
    "graph.add_edge('real_roots',END)\n",
    "graph.add_edge('no_real_roots',END)\n",
    "graph.add_edge('equal_roots',END)\n",
    "\n",
    "workflow = graph.compile()\n"
   ]
  },
  {
   "cell_type": "code",
   "execution_count": 43,
   "id": "276b7748",
   "metadata": {},
   "outputs": [],
   "source": [
    "initial_state = {'a':2, 'b':5, 'c':3}\n",
    "\n",
    "final_result = workflow.invoke(initial_state)"
   ]
  },
  {
   "cell_type": "code",
   "execution_count": 44,
   "id": "cb648a88",
   "metadata": {},
   "outputs": [
    {
     "data": {
      "text/plain": [
       "{'a': 2,\n",
       " 'b': 5,\n",
       " 'c': 3,\n",
       " 'equation': '2x**2 + 5x + c',\n",
       " 'D': 1,\n",
       " 'result': '-1.0 and 1.0'}"
      ]
     },
     "execution_count": 44,
     "metadata": {},
     "output_type": "execute_result"
    }
   ],
   "source": [
    "final_result"
   ]
  },
  {
   "cell_type": "code",
   "execution_count": null,
   "id": "d1379d66",
   "metadata": {},
   "outputs": [],
   "source": []
  }
 ],
 "metadata": {
  "kernelspec": {
   "display_name": "venv",
   "language": "python",
   "name": "python3"
  },
  "language_info": {
   "codemirror_mode": {
    "name": "ipython",
    "version": 3
   },
   "file_extension": ".py",
   "mimetype": "text/x-python",
   "name": "python",
   "nbconvert_exporter": "python",
   "pygments_lexer": "ipython3",
   "version": "3.10.11"
  }
 },
 "nbformat": 4,
 "nbformat_minor": 5
}
