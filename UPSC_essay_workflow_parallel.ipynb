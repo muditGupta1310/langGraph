{
 "cells": [
  {
   "cell_type": "code",
   "execution_count": 59,
   "id": "5d1f7bf1",
   "metadata": {},
   "outputs": [],
   "source": [
    "from langgraph.graph import StateGraph, START,END\n",
    "from langchain_ollama import ChatOllama\n",
    "from typing import TypedDict, Annotated\n",
    "from pydantic import BaseModel, Field\n",
    "import operator"
   ]
  },
  {
   "cell_type": "code",
   "execution_count": 60,
   "id": "902ce80a",
   "metadata": {},
   "outputs": [],
   "source": [
    "model =  ChatOllama(model=\"initium/law_model:latest\")"
   ]
  },
  {
   "cell_type": "code",
   "execution_count": 61,
   "id": "99f3394c",
   "metadata": {},
   "outputs": [],
   "source": [
    "class evaluation_schema(BaseModel):\n",
    "    feedback : str = Field(description = \"Detailed feedback for the essay\")\n",
    "    score: int = Field(description = 'Score out of 10', ge=10,le=10)"
   ]
  },
  {
   "cell_type": "code",
   "execution_count": 62,
   "id": "e498f0a4",
   "metadata": {},
   "outputs": [],
   "source": [
    "structured_model = model.with_structured_output(evaluation_schema)"
   ]
  },
  {
   "cell_type": "code",
   "execution_count": 63,
   "id": "965a4ba5",
   "metadata": {},
   "outputs": [],
   "source": [
    "essay = \"\"\"My Day in City\n",
    "\n",
    "Yesterday I going to city with my friend for buy some thing. We wake up very late so no time for eat breakfast, only drink tea. After we catch bus but bus is very much crowded and noisy and smell not good. My friend he say we should go walking but I tell no because my leg already pain from yesterday football play.\n",
    "\n",
    "In city we see many people is selling all kind thing, like fruit, shoe, phone and many animal also. I want to buy mango but seller tell me price too much high so I angry and walk away. Then we going to shop for buy bag, but bag is big and heavy and color not so nice.\n",
    "\n",
    "We eat lunch in small hotel, food is not so taste good and plate also not clean but we still eat because we hungry too much. Then raining come and we no have umbrella so we become all wet. My shoe making sound chap-chap when walk.\n",
    "\n",
    "When going back home, bus not coming for long time so we sit on bench and wait. Finally bus come but driver very fast drive and many time we almost fall down. At home I feeling very much tired and my clothes full dirty. It was good and bad day both.\n",
    "\n",
    "\"\"\""
   ]
  },
  {
   "cell_type": "code",
   "execution_count": 64,
   "id": "10eb2086",
   "metadata": {},
   "outputs": [],
   "source": [
    "prompt = f\"Evaluate the language quality of the following essay and provide a feedback and assign a score out of 10 \\n {essay}\""
   ]
  },
  {
   "cell_type": "code",
   "execution_count": null,
   "id": "2a432427",
   "metadata": {},
   "outputs": [],
   "source": [
    "result = structured_model.invoke(prompt)"
   ]
  },
  {
   "cell_type": "code",
   "execution_count": null,
   "id": "1c2bd2a1",
   "metadata": {},
   "outputs": [
    {
     "name": "stdout",
     "output_type": "stream",
     "text": [
      "10\n"
     ]
    }
   ],
   "source": [
    "print(result.score)"
   ]
  },
  {
   "cell_type": "code",
   "execution_count": null,
   "id": "e2b8cb47",
   "metadata": {},
   "outputs": [
    {
     "name": "stdout",
     "output_type": "stream",
     "text": [
      "The essay provides a comprehensive overview of India's strengths, challenges, and opportunities in the age of artificial intelligence (AI). The author demonstrates their ability to organize information coherently and provide context to key concepts. However, the writing could benefit from more concrete examples and statistics to support the claims made. For instance, while the essay states that India has a burgeoning base of AI researchers, it does not mention how many AI researchers are present in the country or the number of institutions involved in AI research.\n"
     ]
    }
   ],
   "source": [
    "print(result.feedback)"
   ]
  },
  {
   "cell_type": "code",
   "execution_count": null,
   "id": "422c4de4",
   "metadata": {},
   "outputs": [
    {
     "data": {
      "text/plain": [
       "evaluation_schema(feedback=\"The essay provides a comprehensive overview of India's strengths, challenges, and opportunities in the age of artificial intelligence (AI). The author demonstrates their ability to organize information coherently and provide context to key concepts. However, the writing could benefit from more concrete examples and statistics to support the claims made. For instance, while the essay states that India has a burgeoning base of AI researchers, it does not mention how many AI researchers are present in the country or the number of institutions involved in AI research.\", score=10)"
      ]
     },
     "execution_count": 26,
     "metadata": {},
     "output_type": "execute_result"
    }
   ],
   "source": [
    "result"
   ]
  },
  {
   "cell_type": "code",
   "execution_count": null,
   "id": "1b25abc3",
   "metadata": {},
   "outputs": [],
   "source": [
    "class UPSCState(TypedDict):\n",
    "    essay : str\n",
    "\n",
    "    language_feedback : str\n",
    "    analysis_feedback : str\n",
    "    clarity_feedback : str\n",
    "    overall_feedback : str\n",
    "\n",
    "    individual_scores : Annotated[list[int] , operator.add]\n",
    "\n",
    "    avg_score : float\n"
   ]
  },
  {
   "cell_type": "code",
   "execution_count": null,
   "id": "6d94e12e",
   "metadata": {},
   "outputs": [],
   "source": [
    "def evaluate_language(state: UPSCState):\n",
    "    prompt = f\"\"\"You are strict auditor of UPSC. You have to evaluate the language of the candidate. The candidate has given the answer.\n",
    "    Evalaute the language quality of the following essay and be a strict assessor and provide a feedback and assign a score out of 10 \\n {state['essay']}.\n",
    "\"\"\"\n",
    "    \n",
    "    output = structured_model.invoke(prompt)\n",
    "\n",
    "    return {'language_feedback':output.feedback, 'individual_scores':[output.score]}"
   ]
  },
  {
   "cell_type": "code",
   "execution_count": null,
   "id": "8bf0570a",
   "metadata": {},
   "outputs": [],
   "source": [
    "def evaluate_analysis(state: UPSCState):\n",
    "    prompt = f\"\"\"You are strict auditor of UPSC. You have to evaluate the language of the candidate. The candidate has given the answer.\n",
    "    Evalaute the depth quality of analysis of the following essay and be a strict assessor and provide a feedback and assign a score out of 10 \\n {state['essay']}.\n",
    "\"\"\"\n",
    "    \n",
    "    output = structured_model.invoke(prompt)\n",
    "\n",
    "    return {'analysis_feedback':output.feedback, 'individual_scores':[output.score]}"
   ]
  },
  {
   "cell_type": "code",
   "execution_count": null,
   "id": "b4f7c652",
   "metadata": {},
   "outputs": [],
   "source": [
    "def evaluate_thought(state: UPSCState):\n",
    "    prompt = f\"\"\"You are strict auditor of UPSC. You have to evaluate the language of the candidate. The candidate has given the answer.\n",
    "    Evalaute the clarity of thought of the following essay as a strict assessor and provide a feedback and assign a score out of 10 \\n {state['essay']}.\n",
    "\"\"\"\n",
    "    \n",
    "    output = structured_model.invoke(prompt)\n",
    "\n",
    "    return {'clarity_feedback':output.feedback, 'individual_scores':[output.score]}"
   ]
  },
  {
   "cell_type": "code",
   "execution_count": null,
   "id": "b96088f1",
   "metadata": {},
   "outputs": [],
   "source": [
    "def final_evaluation(state : UPSCState):\n",
    "    # summary feedback\n",
    "    prompt = f\"\"\"Based on the following feedback create a summarized feedback \\n language feedaback  - {state['language_feedback']} \\n depth of analysis feedback -{state['analysis_feedback']} \\n clarity of thought feedback - {state['clarity_feedback']} \"\"\"\n",
    "\n",
    "    final_feedback = model.invoke(prompt)\n",
    "\n",
    "    # avg score\n",
    "\n",
    "    avg_score  = sum(state['individual_scores'])/len(state['individual_scores'])\n",
    "\n",
    "    return {'overall_feedback':final_feedback, 'avg_score':avg_score}\n",
    "\n"
   ]
  },
  {
   "cell_type": "code",
   "execution_count": null,
   "id": "e08c9093",
   "metadata": {},
   "outputs": [],
   "source": [
    "graph = StateGraph(UPSCState)\n",
    "\n",
    "graph.add_node('evaluate_language', evaluate_language)\n",
    "graph.add_node('evaluate_analysis', evaluate_analysis)\n",
    "graph.add_node('evaluate_thought', evaluate_thought)\n",
    "graph.add_node('final_evaluation', final_evaluation)\n",
    "\n",
    "# edges\n",
    "\n",
    "graph.add_edge(START,'evaluate_language')\n",
    "graph.add_edge(START,'evaluate_analysis')\n",
    "graph.add_edge(START,'evaluate_thought')\n",
    "\n",
    "graph.add_edge('evaluate_language','final_evaluation')\n",
    "graph.add_edge('evaluate_analysis','final_evaluation')\n",
    "graph.add_edge('evaluate_thought','final_evaluation')\n",
    "\n",
    "graph.add_edge('final_evaluation',END)\n",
    "\n",
    "workflow = graph.compile()"
   ]
  },
  {
   "cell_type": "code",
   "execution_count": null,
   "id": "71539569",
   "metadata": {},
   "outputs": [],
   "source": [
    "initial_state = {'essay': essay}"
   ]
  },
  {
   "cell_type": "code",
   "execution_count": null,
   "id": "aa0a3975",
   "metadata": {},
   "outputs": [],
   "source": [
    "final_state = workflow.invoke(initial_state)"
   ]
  },
  {
   "cell_type": "code",
   "execution_count": null,
   "id": "5937ec7f",
   "metadata": {},
   "outputs": [
    {
     "data": {
      "text/plain": [
       "{'essay': \"India in the Age of AI.\\nAs the world enters a transformative era defined by artificial intelligence (AI), India stands at a critical juncture — one where it can either emerge as a global leader in AI innovation or risk falling behind in the technology race. The age of AI brings with it immense promise as well as unprecedented challenges, and how India navigates this landscape will shape its socio-economic and geopolitical future.\\n\\nIndia's strengths in the AI domain are rooted in its vast pool of skilled engineers, a thriving IT industry, and a growing startup ecosystem. With over 5 million STEM graduates annually and a burgeoning base of AI researchers, India possesses the intellectual capital required to build cutting-edge AI systems. Institutions like IITs, IIITs, and IISc have begun fostering AI research, while private players such as TCS, Infosys, and Wipro are integrating AI into their global services. In 2020, the government launched the National AI Strategy (AI for All) with a focus on inclusive growth, aiming to leverage AI in healthcare, agriculture, education, and smart mobility.\\n\\nOne of the most promising applications of AI in India lies in agriculture, where predictive analytics can guide farmers on optimal sowing times, weather forecasts, and pest control. In healthcare, AI-powered diagnostics can help address India’s doctor-patient ratio crisis, particularly in rural areas. Educational platforms are increasingly using AI to personalize learning paths, while smart governance tools are helping improve public service delivery and fraud detection.\\n\\nHowever, the path to AI-led growth is riddled with challenges. Chief among them is the digital divide. While metropolitan cities may embrace AI-driven solutions, rural India continues to struggle with basic internet access and digital literacy. The risk of job displacement due to automation also looms large, especially for low-skilled workers. Without effective skilling and re-skilling programs, AI could exacerbate existing socio-economic inequalities.\\n\\nAnother pressing concern is data privacy and ethics. As AI systems rely heavily on vast datasets, ensuring that personal data is used transparently and responsibly becomes vital. India is still shaping its data protection laws, and in the absence of a strong regulatory framework, AI systems may risk misuse or bias.\\n\\nTo harness AI responsibly, India must adopt a multi-stakeholder approach involving the government, academia, industry, and civil society. Policies should promote open datasets, encourage responsible innovation, and ensure ethical AI practices. There is also a need for international collaboration, particularly with countries leading in AI research, to gain strategic advantage and ensure interoperability in global systems.\\n\\nIndia’s demographic dividend, when paired with responsible AI adoption, can unlock massive economic growth, improve governance, and uplift marginalized communities. But this vision will only materialize if AI is seen not merely as a tool for automation, but as an enabler of human-centered development.\\n\\nIn conclusion, India in the age of AI is a story in the making — one of opportunity, responsibility, and transformation. The decisions we make today will not just determine India’s AI trajectory, but also its future as an inclusive, equitable, and innovation-driven society.\",\n",
       " 'language_feedback': 'The language quality of this essay is generally good. There are a few grammatical errors and repetitive phrases that could be corrected for better readability. The content is informative and presents both the opportunities and challenges associated with AI in India.',\n",
       " 'analysis_feedback': \"The essay provides a good overview of India's position in the AI landscape and identifies some significant challenges and opportunities. It highlights India's strengths in AI, discusses promising applications, and touches upon key issues such as digital divide, job displacement, data privacy, and ethics. However, it would benefit from a more in-depth analysis of specific initiatives or projects undertaken by the government, industry, academia, and civil society to address these challenges and opportunities. It also lacks concrete examples of how AI is being used in various sectors and how this is impacting India's socio-economic development.\",\n",
       " 'clarity_feedback': 'Your essay presents a well-rounded analysis of the opportunities and challenges presented by AI in the Indian context. The essay showcases your understanding of various aspects of this issue such as strengths and weaknesses, policy implications, data privacy concerns, etc. However, the flow of the paragraphs could be improved for greater clarity. To make it more engaging, you might want to consider using real-world examples or case studies to illustrate your points.',\n",
       " 'overall_feedback': AIMessage(content=\" The essay's language quality is generally good, with a few grammatical errors and repetitive phrases that can be corrected for better readability. It provides an informative overview of India's position in the AI landscape, highlighting both opportunities and challenges. However, it would benefit from a more in-depth analysis of initiatives undertaken to address these issues, as well as concrete examples of how AI is being used in various sectors. Improving paragraph flow and using real-world examples could make the essay more engaging.\", additional_kwargs={}, response_metadata={'model': 'initium/law_model:latest', 'created_at': '2025-08-08T09:13:09.915147Z', 'done': True, 'done_reason': 'stop', 'total_duration': 96768912100, 'load_duration': 104478200, 'prompt_eval_count': 320, 'prompt_eval_duration': 61076299700, 'eval_count': 107, 'eval_duration': 35533283300, 'model_name': 'initium/law_model:latest'}, id='run--ae923a41-526a-4643-9663-3eea7b2fe443-0', usage_metadata={'input_tokens': 320, 'output_tokens': 107, 'total_tokens': 427}),\n",
       " 'individual_scores': [10, 10, 10],\n",
       " 'avg_score': 10.0}"
      ]
     },
     "execution_count": 57,
     "metadata": {},
     "output_type": "execute_result"
    }
   ],
   "source": [
    "final_state"
   ]
  }
 ],
 "metadata": {
  "kernelspec": {
   "display_name": "venv",
   "language": "python",
   "name": "python3"
  },
  "language_info": {
   "codemirror_mode": {
    "name": "ipython",
    "version": 3
   },
   "file_extension": ".py",
   "mimetype": "text/x-python",
   "name": "python",
   "nbconvert_exporter": "python",
   "pygments_lexer": "ipython3",
   "version": "3.10.11"
  }
 },
 "nbformat": 4,
 "nbformat_minor": 5
}
