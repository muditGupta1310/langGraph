{
 "cells": [
  {
   "cell_type": "code",
   "execution_count": 105,
   "id": "5d1f7bf1",
   "metadata": {},
   "outputs": [],
   "source": [
    "from langgraph.graph import StateGraph, START,END\n",
    "from langchain_ollama import ChatOllama\n",
    "from typing import TypedDict, Annotated\n",
    "from pydantic import BaseModel, Field\n",
    "import operator"
   ]
  },
  {
   "cell_type": "code",
   "execution_count": 106,
   "id": "902ce80a",
   "metadata": {},
   "outputs": [],
   "source": [
    "model =  ChatOllama(model=\"gemma3:4b\")"
   ]
  },
  {
   "cell_type": "code",
   "execution_count": 107,
   "id": "99f3394c",
   "metadata": {},
   "outputs": [],
   "source": [
    "class evaluation_schema(BaseModel):\n",
    "    feedback : str = Field(description = \"Detailed feedback for the essay\")\n",
    "    score: int = Field(description = 'Score out of 10', ge=10,le=10)"
   ]
  },
  {
   "cell_type": "code",
   "execution_count": 108,
   "id": "e498f0a4",
   "metadata": {},
   "outputs": [],
   "source": [
    "structured_model = model.with_structured_output(evaluation_schema)"
   ]
  },
  {
   "cell_type": "code",
   "execution_count": 109,
   "id": "965a4ba5",
   "metadata": {},
   "outputs": [],
   "source": [
    "essay = \"\"\"My Day in City\n",
    "\n",
    "Yesterday I going to city with my friend for buy some thing. We wake up very late so no time for eat breakfast, only drink tea. After we catch bus but bus is very much crowded and noisy and smell not good. My friend he say we should go walking but I tell no because my leg already pain from yesterday football play.\n",
    "\n",
    "In city we see many people is selling all kind thing, like fruit, shoe, phone and many animal also. I want to buy mango but seller tell me price too much high so I angry and walk away. Then we going to shop for buy bag, but bag is big and heavy and color not so nice.\n",
    "\n",
    "We eat lunch in small hotel, food is not so taste good and plate also not clean but we still eat because we hungry too much. Then raining come and we no have umbrella so we become all wet. My shoe making sound chap-chap when walk.\n",
    "\n",
    "When going back home, bus not coming for long time so we sit on bench and wait. Finally bus come but driver very fast drive and many time we almost fall down. At home I feeling very much tired and my clothes full dirty. It was good and bad day both.\n",
    "\n",
    "\"\"\""
   ]
  },
  {
   "cell_type": "code",
   "execution_count": 110,
   "id": "1b25abc3",
   "metadata": {},
   "outputs": [],
   "source": [
    "class UPSCState(TypedDict):\n",
    "    essay : str\n",
    "\n",
    "    language_feedback : str\n",
    "    analysis_feedback : str\n",
    "    clarity_feedback : str\n",
    "    overall_feedback : str\n",
    "\n",
    "    individual_scores : Annotated[list[int] , operator.add]\n",
    "\n",
    "    avg_score : float\n"
   ]
  },
  {
   "cell_type": "code",
   "execution_count": null,
   "id": "6d94e12e",
   "metadata": {},
   "outputs": [],
   "source": [
    "def evaluate_language(state: UPSCState):\n",
    "    prompt = f\"\"\"You are a strict and unbiased UPSC evaluator.\n",
    "Your task is to evaluate the language quality of the candidate’s essay.\n",
    "\n",
    "Evaluation Criteria (deduct marks for any weakness):\n",
    "\n",
    "Grammar & Syntax – Correct use of grammar, punctuation, and sentence structure.\n",
    "\n",
    "Clarity & Precision – Clear, concise, and unambiguous expression of ideas.\n",
    "\n",
    "Vocabulary & Word Choice – Appropriate, varied, and contextually accurate vocabulary.\n",
    "\n",
    "Flow & Coherence – Logical connection between sentences and paragraphs.\n",
    "\n",
    "Formality & Tone – Suitable for a UPSC-level academic/analytical essay.\n",
    "\n",
    "Scoring Guide (out of 10):\n",
    "\n",
    "9–10: Outstanding — flawless grammar, excellent vocabulary, and perfect coherence.\n",
    "\n",
    "7–8: Good — minor issues but overall clear and well-written.\n",
    "\n",
    "5–6: Average — noticeable grammar or flow issues; some awkward phrasing.\n",
    "\n",
    "3–4: Poor — frequent errors, weak vocabulary, and low readability.\n",
    "\n",
    "0–2: Very poor — incoherent, numerous mistakes, and unclear meaning.\n",
    "\n",
    "Task:\n",
    "\n",
    "Provide critical feedback with examples of strengths and weaknesses in language.\n",
    "\n",
    "Justify the score with specific references to the essay’s text.\n",
    "\n",
    "Assign one strict final score out of 10 according to the above scale.\n",
    "\n",
    "Essay to evaluate:\n",
    "{state['essay']}\n",
    "\"\"\"\n",
    "    \n",
    "    output = structured_model.invoke(prompt)\n",
    "\n",
    "    return {'language_feedback':output.feedback, 'individual_scores':[output.score]}"
   ]
  },
  {
   "cell_type": "code",
   "execution_count": null,
   "id": "8bf0570a",
   "metadata": {},
   "outputs": [],
   "source": [
    "def evaluate_analysis(state: UPSCState):\n",
    "    prompt = f\"\"\"You are a strict and unbiased UPSC evaluator.\n",
    "Your task is to evaluate the depth and quality of analysis in the candidate’s essay.\n",
    "\n",
    "Evaluation Criteria (deduct marks for any weakness):\n",
    "\n",
    "Depth of Analysis – Does the essay go beyond surface-level points, showing nuanced understanding?\n",
    "\n",
    "Logical Structure – Are ideas well-organized, with clear progression and no contradictions?\n",
    "\n",
    "Relevance & Focus – Does the analysis stay on-topic without unnecessary content?\n",
    "\n",
    "Evidence & Examples – Are claims supported with relevant data, facts, or illustrations?\n",
    "\n",
    "Critical Thinking – Does the candidate present multiple perspectives and weigh them logically?\n",
    "\n",
    "Scoring Guide (out of 10):\n",
    "\n",
    "9–10: Exceptional — highly analytical, coherent, insightful, and well-supported arguments.\n",
    "\n",
    "7–8: Good — clear and logical, but lacks some depth or evidence in places.\n",
    "\n",
    "5–6: Average — basic points covered, but superficial analysis or limited coherence.\n",
    "\n",
    "3–4: Weak — poor structure, limited depth, and few or no examples.\n",
    "\n",
    "0–2: Very poor — incoherent, no real analysis, irrelevant content.\n",
    "\n",
    "Task:\n",
    "\n",
    "Provide critical feedback pointing out strengths and weaknesses.\n",
    "\n",
    "Use specific examples from the essay to justify your evaluation.\n",
    "\n",
    "Assign one final score out of 10 strictly based on the above scale.\n",
    "\n",
    "Essay to evaluate:\n",
    "{state['essay']}\n",
    "\"\"\"\n",
    "    \n",
    "    output = structured_model.invoke(prompt)\n",
    "\n",
    "    return {'analysis_feedback':output.feedback, 'individual_scores':[output.score]}"
   ]
  },
  {
   "cell_type": "code",
   "execution_count": null,
   "id": "b4f7c652",
   "metadata": {},
   "outputs": [],
   "source": [
    "def evaluate_thought(state: UPSCState):\n",
    "    prompt = f\"\"\"You are a strict and unbiased UPSC auditor evaluating a candidate’s essay.\n",
    "Assess only the clarity of thought and quality of language — not factual correctness.\n",
    "\n",
    "Evaluation Criteria (deduct marks for any weakness):\n",
    "\n",
    "Clarity & Coherence: Is the argument logically structured and easy to follow?\n",
    "\n",
    "Language Quality: Grammar, spelling, and sentence structure.\n",
    "\n",
    "Relevance: Does every part contribute to the main idea?\n",
    "\n",
    "Conciseness: Avoids redundancy and filler words.\n",
    "\n",
    "Scoring Guide (out of 10):\n",
    "\n",
    "9–10: Exceptional clarity, flawless grammar, strong logical flow.\n",
    "\n",
    "7–8: Good but with minor issues in structure or wording.\n",
    "\n",
    "5–6: Average — noticeable grammar or coherence issues.\n",
    "\n",
    "3–4: Poor — frequent errors, unclear argument, weak structure.\n",
    "\n",
    "0–2: Very poor — incoherent, major grammar issues, no logical flow.\n",
    "\n",
    "Task:\n",
    "\n",
    "Provide critical, UPSC-level feedback highlighting weaknesses and strengths.\n",
    "\n",
    "Justify your scoring with specific examples from the essay.\n",
    "\n",
    "Assign one final score strictly according to the above scale.\n",
    "\n",
    "Essay to evaluate:\n",
    "{state['essay']}\n",
    "\"\"\"\n",
    "    \n",
    "    output = structured_model.invoke(prompt)\n",
    "\n",
    "    return {'clarity_feedback':output.feedback, 'individual_scores':[output.score]}"
   ]
  },
  {
   "cell_type": "code",
   "execution_count": 114,
   "id": "b96088f1",
   "metadata": {},
   "outputs": [],
   "source": [
    "def final_evaluation(state : UPSCState):\n",
    "    # summary feedback\n",
    "    prompt = f\"\"\"Based on the following feedback create a summarized feedback \\n language feedaback  - {state['language_feedback']} \\n depth of analysis feedback -{state['analysis_feedback']} \\n clarity of thought feedback - {state['clarity_feedback']} \"\"\"\n",
    "\n",
    "    final_feedback = model.invoke(prompt)\n",
    "\n",
    "    # avg score\n",
    "\n",
    "    avg_score  = sum(state['individual_scores'])/len(state['individual_scores'])\n",
    "\n",
    "    return {'overall_feedback':final_feedback, 'avg_score':avg_score}\n",
    "\n"
   ]
  },
  {
   "cell_type": "code",
   "execution_count": 115,
   "id": "e08c9093",
   "metadata": {},
   "outputs": [],
   "source": [
    "graph = StateGraph(UPSCState)\n",
    "\n",
    "graph.add_node('evaluate_language', evaluate_language)\n",
    "graph.add_node('evaluate_analysis', evaluate_analysis)\n",
    "graph.add_node('evaluate_thought', evaluate_thought)\n",
    "graph.add_node('final_evaluation', final_evaluation)\n",
    "\n",
    "# edges\n",
    "\n",
    "graph.add_edge(START,'evaluate_language')\n",
    "graph.add_edge(START,'evaluate_analysis')\n",
    "graph.add_edge(START,'evaluate_thought')\n",
    "\n",
    "graph.add_edge('evaluate_language','final_evaluation')\n",
    "graph.add_edge('evaluate_analysis','final_evaluation')\n",
    "graph.add_edge('evaluate_thought','final_evaluation')\n",
    "\n",
    "graph.add_edge('final_evaluation',END)\n",
    "\n",
    "workflow = graph.compile()"
   ]
  },
  {
   "cell_type": "code",
   "execution_count": 116,
   "id": "71539569",
   "metadata": {},
   "outputs": [],
   "source": [
    "initial_state = {'essay': essay}"
   ]
  },
  {
   "cell_type": "code",
   "execution_count": 117,
   "id": "aa0a3975",
   "metadata": {},
   "outputs": [],
   "source": [
    "final_state = workflow.invoke(initial_state)"
   ]
  },
  {
   "cell_type": "code",
   "execution_count": 118,
   "id": "5937ec7f",
   "metadata": {},
   "outputs": [
    {
     "data": {
      "text/plain": [
       "{'essay': 'My Day in City\\n\\nYesterday I going to city with my friend for buy some thing. We wake up very late so no time for eat breakfast, only drink tea. After we catch bus but bus is very much crowded and noisy and smell not good. My friend he say we should go walking but I tell no because my leg already pain from yesterday football play.\\n\\nIn city we see many people is selling all kind thing, like fruit, shoe, phone and many animal also. I want to buy mango but seller tell me price too much high so I angry and walk away. Then we going to shop for buy bag, but bag is big and heavy and color not so nice.\\n\\nWe eat lunch in small hotel, food is not so taste good and plate also not clean but we still eat because we hungry too much. Then raining come and we no have umbrella so we become all wet. My shoe making sound chap-chap when walk.\\n\\nWhen going back home, bus not coming for long time so we sit on bench and wait. Finally bus come but driver very fast drive and many time we almost fall down. At home I feeling very much tired and my clothes full dirty. It was good and bad day both.\\n\\n',\n",
       " 'language_feedback': \"This response demonstrates a significant lack of command of English language suitable for a UPSC exam. The writing is riddled with grammatical errors, incorrect word usage, and a generally simplistic style. It reads like a transcript of a casual conversation rather than a coherent and well-structured essay. \\n\\n**Here’s a detailed breakdown of the issues:**\\n\\n* **Grammar:** The pervasive use of incorrect verb tenses ('going,' 'wake up'), incorrect preposition usage ('to city with,' 'for buy'), and improper sentence structure are incredibly distracting.  ‘No time for eat breakfast’ is a completely incorrect phrasing.\\n* **Vocabulary:** The vocabulary is extremely limited and repetitive. Words like ‘thing,’ ‘much,’ and ‘very’ are overused and contribute to a lack of precision. There's no attempt to use more sophisticated or descriptive language.\\n* **Sentence Structure:** Sentences are often fragmented and lack clear connections.  ‘My shoe making sound chap-chap’ is an unusual and awkward construction.\\n* **Clarity & Coherence:** The narrative lacks cohesion. Transitions between events are abrupt, and the essay doesn’t present a clear central theme or reflection – it’s simply a list of observations.\\n* **Formal Tone:** The language is entirely informal and unsuitable for an exam environment. The use of contractions ('we're,' 'it's') is inappropriate.\\n\\n**Recommendations for Improvement:**\\n\\n* **Focus on Grammar:** The candidate needs to significantly strengthen their understanding of basic English grammar, including verb tenses, articles, prepositions, and sentence structure.\\n* **Expand Vocabulary:**  Encourage the use of a wider range of words to convey ideas more precisely.\\n* **Practice Formal Writing:** The candidate should practice writing in a formal, academic style, paying close attention to tone and structure.\\n* **Planning & Structure:** Before writing, the candidate should plan the essay’s structure, including an introduction, body paragraphs with clear themes, and a concluding paragraph.\\n\\n**Overall Score:** 2/10\\n\\n**Justification:** This response demonstrates a fundamental weakness in the candidate's English language skills, making it wholly inadequate for the demands of a UPSC exam. The errors are numerous and pervasive, hindering comprehension and conveying a lack of analytical ability. Significant improvement is required across all aspects of language proficiency.\",\n",
       " 'analysis_feedback': \"This essay demonstrates a significant lack of command of English language and, frankly, a very superficial engagement with the prompt – 'My Day in City.' The writing is riddled with grammatical errors, incorrect word usage, and a simplistic, almost childish, tone. It reads like a stream of consciousness rather than a carefully considered reflection. \\n\\n**Here’s a detailed breakdown of the issues and suggested improvements:**\\n\\n**1. Grammar & Mechanics (Score: 1/10):** The errors are pervasive. ‘Going to’ is misused repeatedly. ‘Is selling’ is awkward phrasing. Sentence structure is often fragmented and lacks proper conjunctions. There’s a concerning reliance on contractions (e.g., ‘no have’) which detracts from the overall impression.\\n\\n**2. Vocabulary & Precision (Score: 2/10):** The vocabulary is extremely limited and basic. Words like ‘thing,’ ‘big,’ and ‘nice’ are used without nuance. There’s a lack of descriptive language. The candidate needs to broaden their vocabulary and learn to use precise words to convey specific details.\\n\\n**3. Analysis & Reflection (Score: 1/10):** The essay doesn't truly explore ‘My Day in City.’ It primarily describes events in a disjointed manner without any analytical depth. There’s no reflection on the emotional impact, observations about the city, or any attempt to interpret the experience. The phrase ‘good and bad day both’ is a simplistic and uninspired conclusion.\\n\\n**4. Structure & Flow (Score: 2/10):** The essay lacks a clear narrative structure. The events are presented in a random order with no discernible flow. Paragraphing is absent, contributing to the disjointed feel.\\n\\n**5. Tone & Style (Score: 1/10):** The tone is conversational but lacks sophistication. The writing feels overly informal and lacks the ability to create a vivid picture for the reader.\\n\\n**Overall Score: 5/10**\\n\\n**Recommendations for Improvement:**\\n\\n*   **Focus on Grammar:** Spend significant time on grammar rules – tenses, articles, prepositions, and sentence construction.\\n*   **Expand Vocabulary:** Read widely and actively learn new words and their correct usage.\\n*   **Practice Descriptive Writing:**  Focus on using vivid language to paint a picture for the reader.  Use sensory details (sight, sound, smell, taste, touch).\\n*   **Develop Analytical Skills:** When writing about experiences, ask yourself 'Why did this happen?’, ‘What did this make me feel?’, ‘What can I learn from this?’\\n*   **Structure your writing:** Plan your essay before you start writing. Use an outline to organize your ideas.\",\n",
       " 'clarity_feedback': \"This essay demonstrates a significant lack of clarity and coherence, failing to meet the expected standards for a UPSC Mains answer. The writing is riddled with grammatical errors, simplistic sentence structures, and a disjointed narrative. It reads more like a stream of consciousness rather than a carefully constructed response. \\n\\n**Key Issues & Specific Feedback:**\\n\\n* **Grammar & Mechanics:** The essay is plagued with fundamental errors in English grammar (e.g., ‘going to,’ ‘he say,’ ‘no time for eat,’ ‘is selling all kind thing’). Sentence structure is consistently simplistic and repetitive.  \\n* **Clarity of Thought:** The candidate’s thoughts are not clearly articulated. There's no discernible theme or argument. The description feels like a random recounting of events without a central focus. It lacks analysis, reflection, or any attempt to connect the experiences to a broader point.\\n* **Organization & Structure:** There is no logical flow or structure. The events are presented haphazardly, with little transition between them.  A basic introduction, body paragraphs (even rudimentary ones) with connecting sentences are entirely absent.\\n* **Vocabulary & Style:** The vocabulary is extremely limited and basic. The writing style is overly conversational and lacks formality appropriate for a UPSC exam.\\n* **Lack of Reflection:** The conclusion – ‘it was good and bad day both’ – is a platitude and demonstrates a lack of critical engagement with the experience. \\n\\n**Suggestions for Improvement:**\\n\\n* **Focus & Theme:**  The candidate needs to identify a central theme or observation to guide their writing. For example, could they explore the challenges of urban life, the impact of consumerism, or simply the experience of a casual outing? \\n* **Structured Writing:**  Learn and apply basic essay structure: Introduction (setting the context), Body Paragraphs (with topic sentences and supporting details), and a Conclusion (summarizing the key points). \\n* **Grammar & Vocabulary Practice:**  Significant improvement is needed in English grammar and vocabulary. Practice writing regularly, focusing on sentence construction and using a wider range of vocabulary.\\n* **Reflective Writing:**  Encourage the candidate to go beyond simply describing events and to reflect on their meaning and significance.\\n\",\n",
       " 'overall_feedback': AIMessage(content='Okay, here’s a summarized feedback report combining the three detailed critiques you’ve provided, aiming for a concise and actionable assessment:\\n\\n**Overall Assessment: 2.3/10**\\n\\n**Core Issues & Recommendations**\\n\\nThis response demonstrates a fundamental weakness in English language skills, severely hindering its effectiveness for a UPSC exam. The core issues are consistent across all three critiques:\\n\\n* **Severe Grammatical Deficiencies:**  The writing is riddled with errors in grammar, tense usage, and sentence construction. Frequent mistakes (“going to,” “no have,” “is selling all kind thing”) significantly detract from comprehension.\\n* **Limited Vocabulary & Lack of Precision:** The reliance on basic, repetitive words (“thing,” “nice,” “good,” “bad”) prevents the candidate from conveying nuanced observations or analysis.\\n* **Lack of Analytical Depth & Reflection:** The writing primarily describes events without any attempt at analysis, reflection, or drawing meaningful conclusions. It lacks a clear theme or perspective.\\n* **Poor Structure & Organization:** The writing lacks a coherent structure – no introduction, body paragraphs, or conclusion. The flow of events is disjointed and haphazard.\\n\\n\\n**Specific Recommendations (Prioritized):**\\n\\n1. **Grammar Intensive Study:**  This is the *most* critical area for immediate improvement. Focus on:\\n    * Verb Tenses: Mastering the correct usage.\\n    * Articles (a, an, the) – frequent errors.\\n    * Prepositions – understanding their proper usage.\\n    * Sentence Structure -  Learn to construct clear, complex sentences.\\n\\n2. **Vocabulary Expansion:**  Dedicate time to building a robust vocabulary.  Focus on synonyms and precise language. Use a thesaurus *carefully* to avoid misuse.\\n\\n3. **Structured Writing Practice:**\\n    * **Essay Outlines:**  Before writing *anything*, create a detailed outline with a clear introduction, topic sentences for each paragraph, and a concluding paragraph.\\n    * **Practice Essay Structures:** Familiarize yourself with standard essay formats.\\n\\n4. **Develop Reflective Thinking:** When writing about experiences, actively consider: *Why* did something happen? *What* impact did it have? *What* can you learn from it?\\n\\n5. **Formal Tone & Style:** Eliminate contractions (“we’re,” “it’s”) and adopt a more formal, academic writing style.\\n\\n\\n**Key Takeaway:** This response requires a substantial investment in strengthening foundational English language skills.  Significant, consistent effort is needed to achieve the level of proficiency required for a UPSC exam. \\n\\n---\\n\\nDo you want me to elaborate on any specific aspect of this summary, or perhaps generate some example exercises based on the identified weaknesses?', additional_kwargs={}, response_metadata={'model': 'gemma3:4b', 'created_at': '2025-08-08T10:59:16.8301389Z', 'done': True, 'done_reason': 'stop', 'total_duration': 270517056100, 'load_duration': 320146300, 'prompt_eval_count': 1534, 'prompt_eval_duration': 131198092100, 'eval_count': 558, 'eval_duration': 138996622000, 'model_name': 'gemma3:4b'}, id='run--ab6cf1ea-69fb-45a2-ad67-e35e2b56b8d6-0', usage_metadata={'input_tokens': 1534, 'output_tokens': 558, 'total_tokens': 2092}),\n",
       " 'individual_scores': [10, 10, 10],\n",
       " 'avg_score': 10.0}"
      ]
     },
     "execution_count": 118,
     "metadata": {},
     "output_type": "execute_result"
    }
   ],
   "source": [
    "final_state"
   ]
  },
  {
   "cell_type": "code",
   "execution_count": null,
   "id": "4e16cf2d",
   "metadata": {},
   "outputs": [],
   "source": []
  }
 ],
 "metadata": {
  "kernelspec": {
   "display_name": "venv",
   "language": "python",
   "name": "python3"
  },
  "language_info": {
   "codemirror_mode": {
    "name": "ipython",
    "version": 3
   },
   "file_extension": ".py",
   "mimetype": "text/x-python",
   "name": "python",
   "nbconvert_exporter": "python",
   "pygments_lexer": "ipython3",
   "version": "3.10.11"
  }
 },
 "nbformat": 4,
 "nbformat_minor": 5
}
