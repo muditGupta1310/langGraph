{
 "cells": [
  {
   "cell_type": "code",
   "execution_count": 28,
   "id": "5d1f7bf1",
   "metadata": {},
   "outputs": [],
   "source": [
    "from langgraph.graph import StateGraph, START,END\n",
    "from langchain_ollama import ChatOllama\n",
    "from typing import TypedDict, Annotated\n",
    "from pydantic import BaseModel, Field\n",
    "import operator"
   ]
  },
  {
   "cell_type": "code",
   "execution_count": 12,
   "id": "902ce80a",
   "metadata": {},
   "outputs": [],
   "source": [
    "model =  ChatOllama(model=\"initium/law_model:latest\")"
   ]
  },
  {
   "cell_type": "code",
   "execution_count": 13,
   "id": "99f3394c",
   "metadata": {},
   "outputs": [],
   "source": [
    "class evaluation_schema(BaseModel):\n",
    "    feedback : str = Field(description = \"Detailed feedback for the essay\")\n",
    "    score: int = Field(description = 'Score out of 10', ge=10,le=10)"
   ]
  },
  {
   "cell_type": "code",
   "execution_count": 14,
   "id": "e498f0a4",
   "metadata": {},
   "outputs": [],
   "source": [
    "structured_model = model.with_structured_output(evaluation_schema)"
   ]
  },
  {
   "cell_type": "code",
   "execution_count": 48,
   "id": "965a4ba5",
   "metadata": {},
   "outputs": [],
   "source": [
    "essay = \"\"\"India in the Age of AI.\n",
    "As the world enters a transformative era defined by artificial intelligence (AI), India stands at a critical juncture — one where it can either emerge as a global leader in AI innovation or risk falling behind in the technology race. The age of AI brings with it immense promise as well as unprecedented challenges, and how India navigates this landscape will shape its socio-economic and geopolitical future.\n",
    "\n",
    "India's strengths in the AI domain are rooted in its vast pool of skilled engineers, a thriving IT industry, and a growing startup ecosystem. With over 5 million STEM graduates annually and a burgeoning base of AI researchers, India possesses the intellectual capital required to build cutting-edge AI systems. Institutions like IITs, IIITs, and IISc have begun fostering AI research, while private players such as TCS, Infosys, and Wipro are integrating AI into their global services. In 2020, the government launched the National AI Strategy (AI for All) with a focus on inclusive growth, aiming to leverage AI in healthcare, agriculture, education, and smart mobility.\n",
    "\n",
    "One of the most promising applications of AI in India lies in agriculture, where predictive analytics can guide farmers on optimal sowing times, weather forecasts, and pest control. In healthcare, AI-powered diagnostics can help address India’s doctor-patient ratio crisis, particularly in rural areas. Educational platforms are increasingly using AI to personalize learning paths, while smart governance tools are helping improve public service delivery and fraud detection.\n",
    "\n",
    "However, the path to AI-led growth is riddled with challenges. Chief among them is the digital divide. While metropolitan cities may embrace AI-driven solutions, rural India continues to struggle with basic internet access and digital literacy. The risk of job displacement due to automation also looms large, especially for low-skilled workers. Without effective skilling and re-skilling programs, AI could exacerbate existing socio-economic inequalities.\n",
    "\n",
    "Another pressing concern is data privacy and ethics. As AI systems rely heavily on vast datasets, ensuring that personal data is used transparently and responsibly becomes vital. India is still shaping its data protection laws, and in the absence of a strong regulatory framework, AI systems may risk misuse or bias.\n",
    "\n",
    "To harness AI responsibly, India must adopt a multi-stakeholder approach involving the government, academia, industry, and civil society. Policies should promote open datasets, encourage responsible innovation, and ensure ethical AI practices. There is also a need for international collaboration, particularly with countries leading in AI research, to gain strategic advantage and ensure interoperability in global systems.\n",
    "\n",
    "India’s demographic dividend, when paired with responsible AI adoption, can unlock massive economic growth, improve governance, and uplift marginalized communities. But this vision will only materialize if AI is seen not merely as a tool for automation, but as an enabler of human-centered development.\n",
    "\n",
    "In conclusion, India in the age of AI is a story in the making — one of opportunity, responsibility, and transformation. The decisions we make today will not just determine India’s AI trajectory, but also its future as an inclusive, equitable, and innovation-driven society.\"\"\""
   ]
  },
  {
   "cell_type": "code",
   "execution_count": 17,
   "id": "10eb2086",
   "metadata": {},
   "outputs": [],
   "source": [
    "prompt = f\"Evaluate the language quality of the following essay and provide a feedback and assign a score out of 10 \\n {essay}\""
   ]
  },
  {
   "cell_type": "code",
   "execution_count": 23,
   "id": "2a432427",
   "metadata": {},
   "outputs": [],
   "source": [
    "result = structured_model.invoke(prompt)"
   ]
  },
  {
   "cell_type": "code",
   "execution_count": 24,
   "id": "1c2bd2a1",
   "metadata": {},
   "outputs": [
    {
     "name": "stdout",
     "output_type": "stream",
     "text": [
      "10\n"
     ]
    }
   ],
   "source": [
    "print(result.score)"
   ]
  },
  {
   "cell_type": "code",
   "execution_count": 25,
   "id": "e2b8cb47",
   "metadata": {},
   "outputs": [
    {
     "name": "stdout",
     "output_type": "stream",
     "text": [
      "The essay provides a comprehensive overview of India's strengths, challenges, and opportunities in the age of artificial intelligence (AI). The author demonstrates their ability to organize information coherently and provide context to key concepts. However, the writing could benefit from more concrete examples and statistics to support the claims made. For instance, while the essay states that India has a burgeoning base of AI researchers, it does not mention how many AI researchers are present in the country or the number of institutions involved in AI research.\n"
     ]
    }
   ],
   "source": [
    "print(result.feedback)"
   ]
  },
  {
   "cell_type": "code",
   "execution_count": 26,
   "id": "422c4de4",
   "metadata": {},
   "outputs": [
    {
     "data": {
      "text/plain": [
       "evaluation_schema(feedback=\"The essay provides a comprehensive overview of India's strengths, challenges, and opportunities in the age of artificial intelligence (AI). The author demonstrates their ability to organize information coherently and provide context to key concepts. However, the writing could benefit from more concrete examples and statistics to support the claims made. For instance, while the essay states that India has a burgeoning base of AI researchers, it does not mention how many AI researchers are present in the country or the number of institutions involved in AI research.\", score=10)"
      ]
     },
     "execution_count": 26,
     "metadata": {},
     "output_type": "execute_result"
    }
   ],
   "source": [
    "result"
   ]
  },
  {
   "cell_type": "code",
   "execution_count": 52,
   "id": "1b25abc3",
   "metadata": {},
   "outputs": [],
   "source": [
    "class UPSCState(TypedDict):\n",
    "    essay : str\n",
    "\n",
    "    language_feedback : str\n",
    "    analysis_feedback : str\n",
    "    clarity_feedback : str\n",
    "    overall_feedback : str\n",
    "\n",
    "    individual_scores : Annotated[list[int] , operator.add]\n",
    "\n",
    "    avg_score : float\n"
   ]
  },
  {
   "cell_type": "code",
   "execution_count": 38,
   "id": "6d94e12e",
   "metadata": {},
   "outputs": [],
   "source": [
    "def evaluate_language(state: UPSCState):\n",
    "    prompt = f\"\"\"\n",
    "    Evalaute the language quality of the following essay and be a strict assessor and provide a feedback and assign a score out of 10 \\n {state['essay']}.\n",
    "\"\"\"\n",
    "    \n",
    "    output = structured_model.invoke(prompt)\n",
    "\n",
    "    return {'language_feedback':output.feedback, 'individual_scores':[output.score]}"
   ]
  },
  {
   "cell_type": "code",
   "execution_count": null,
   "id": "8bf0570a",
   "metadata": {},
   "outputs": [],
   "source": [
    "def evaluate_analysis(state: UPSCState):\n",
    "    prompt = f\"\"\"\n",
    "    Evalaute the depth quality of analysis of the following essay and be a strict assessor and provide a feedback and assign a score out of 10 \\n {state['essay']}.\n",
    "\"\"\"\n",
    "    \n",
    "    output = structured_model.invoke(prompt)\n",
    "\n",
    "    return {'analysis_feedback':output.feedback, 'individual_scores':[output.score]}"
   ]
  },
  {
   "cell_type": "code",
   "execution_count": null,
   "id": "b4f7c652",
   "metadata": {},
   "outputs": [],
   "source": [
    "def evaluate_thought(state: UPSCState):\n",
    "    prompt = f\"\"\"\n",
    "    Evalaute the clarity of thought of the following essay as a strict assessor and provide a feedback and assign a score out of 10 \\n {state['essay']}.\n",
    "\"\"\"\n",
    "    \n",
    "    output = structured_model.invoke(prompt)\n",
    "\n",
    "    return {'clarity_feedback':output.feedback, 'individual_scores':[output.score]}"
   ]
  },
  {
   "cell_type": "code",
   "execution_count": 53,
   "id": "b96088f1",
   "metadata": {},
   "outputs": [],
   "source": [
    "def final_evaluation(state : UPSCState):\n",
    "    # summary feedback\n",
    "    prompt = f\"\"\"Based on the following feedback create a summarized feedback \\n language feedaback  - {state['language_feedback']} \\n depth of analysis feedback -{state['analysis_feedback']} \\n clarity of thought feedback - {state['clarity_feedback']} \"\"\"\n",
    "\n",
    "    final_feedback = model.invoke(prompt)\n",
    "\n",
    "    # avg score\n",
    "\n",
    "    avg_score  = sum(state['individual_scores'])/len(state['individual_scores'])\n",
    "\n",
    "    return {'overall_feedback':final_feedback, 'avg_score':avg_score}\n",
    "\n"
   ]
  },
  {
   "cell_type": "code",
   "execution_count": 54,
   "id": "e08c9093",
   "metadata": {},
   "outputs": [],
   "source": [
    "graph = StateGraph(UPSCState)\n",
    "\n",
    "graph.add_node('evaluate_language', evaluate_language)\n",
    "graph.add_node('evaluate_analysis', evaluate_analysis)\n",
    "graph.add_node('evaluate_thought', evaluate_thought)\n",
    "graph.add_node('final_evaluation', final_evaluation)\n",
    "\n",
    "# edges\n",
    "\n",
    "graph.add_edge(START,'evaluate_language')\n",
    "graph.add_edge(START,'evaluate_analysis')\n",
    "graph.add_edge(START,'evaluate_thought')\n",
    "\n",
    "graph.add_edge('evaluate_language','final_evaluation')\n",
    "graph.add_edge('evaluate_analysis','final_evaluation')\n",
    "graph.add_edge('evaluate_thought','final_evaluation')\n",
    "\n",
    "graph.add_edge('final_evaluation',END)\n",
    "\n",
    "workflow = graph.compile()"
   ]
  },
  {
   "cell_type": "code",
   "execution_count": 55,
   "id": "71539569",
   "metadata": {},
   "outputs": [],
   "source": [
    "initial_state = {'essay': essay}"
   ]
  },
  {
   "cell_type": "code",
   "execution_count": null,
   "id": "aa0a3975",
   "metadata": {},
   "outputs": [],
   "source": [
    "final_state = workflow.invoke(initial_state)"
   ]
  },
  {
   "cell_type": "code",
   "execution_count": null,
   "id": "5937ec7f",
   "metadata": {},
   "outputs": [],
   "source": [
    "final_state"
   ]
  }
 ],
 "metadata": {
  "kernelspec": {
   "display_name": "venv",
   "language": "python",
   "name": "python3"
  },
  "language_info": {
   "codemirror_mode": {
    "name": "ipython",
    "version": 3
   },
   "file_extension": ".py",
   "mimetype": "text/x-python",
   "name": "python",
   "nbconvert_exporter": "python",
   "pygments_lexer": "ipython3",
   "version": "3.10.11"
  }
 },
 "nbformat": 4,
 "nbformat_minor": 5
}
