{
 "cells": [
  {
   "cell_type": "code",
   "execution_count": 1,
   "id": "5d1f7bf1",
   "metadata": {},
   "outputs": [],
   "source": [
    "from langgraph.graph import StateGraph, START,END\n",
    "from langchain_ollama import ChatOllama\n",
    "from typing import TypedDict, Annotated\n",
    "from pydantic import BaseModel, Field\n",
    "import operator"
   ]
  },
  {
   "cell_type": "code",
   "execution_count": 2,
   "id": "902ce80a",
   "metadata": {},
   "outputs": [],
   "source": [
    "model =  ChatOllama(model=\"gemma3:4b\")"
   ]
  },
  {
   "cell_type": "code",
   "execution_count": 3,
   "id": "99f3394c",
   "metadata": {},
   "outputs": [],
   "source": [
    "class evaluation_schema(BaseModel):\n",
    "    feedback : str = Field(description = \"Detailed feedback for the essay\")\n",
    "    score: int = Field(description = 'Score out of 10', ge=10,le=10)"
   ]
  },
  {
   "cell_type": "code",
   "execution_count": 4,
   "id": "e498f0a4",
   "metadata": {},
   "outputs": [],
   "source": [
    "structured_model = model.with_structured_output(evaluation_schema)"
   ]
  },
  {
   "cell_type": "code",
   "execution_count": 5,
   "id": "965a4ba5",
   "metadata": {},
   "outputs": [],
   "source": [
    "essay = \"\"\"My Day in City\n",
    "\n",
    "Yesterday I going to city with my friend for buy some thing. We wake up very late so no time for eat breakfast, only drink tea. After we catch bus but bus is very much crowded and noisy and smell not good. My friend he say we should go walking but I tell no because my leg already pain from yesterday football play.\n",
    "\n",
    "In city we see many people is selling all kind thing, like fruit, shoe, phone and many animal also. I want to buy mango but seller tell me price too much high so I angry and walk away. Then we going to shop for buy bag, but bag is big and heavy and color not so nice.\n",
    "\n",
    "We eat lunch in small hotel, food is not so taste good and plate also not clean but we still eat because we hungry too much. Then raining come and we no have umbrella so we become all wet. My shoe making sound chap-chap when walk.\n",
    "\n",
    "When going back home, bus not coming for long time so we sit on bench and wait. Finally bus come but driver very fast drive and many time we almost fall down. At home I feeling very much tired and my clothes full dirty. It was good and bad day both.\n",
    "\n",
    "\"\"\""
   ]
  },
  {
   "cell_type": "code",
   "execution_count": 6,
   "id": "1b25abc3",
   "metadata": {},
   "outputs": [],
   "source": [
    "class UPSCState(TypedDict):\n",
    "    essay : str\n",
    "\n",
    "    language_feedback : str\n",
    "    analysis_feedback : str\n",
    "    clarity_feedback : str\n",
    "    overall_feedback : str\n",
    "\n",
    "    individual_scores : Annotated[list[int] , operator.add]\n",
    "\n",
    "    avg_score : float\n"
   ]
  },
  {
   "cell_type": "code",
   "execution_count": 7,
   "id": "6d94e12e",
   "metadata": {},
   "outputs": [],
   "source": [
    "def evaluate_language(state: UPSCState):\n",
    "    prompt = f\"\"\"You are a strict and unbiased UPSC evaluator.\n",
    "Your task is to evaluate the language quality of the candidate’s essay.\n",
    "\n",
    "Evaluation Criteria (deduct marks for any weakness):\n",
    "\n",
    "NOTE IMPORTANT : Observe the grammatical errors deduct scores out of 10 accordingly\n",
    "Score should be justified.\n",
    "\n",
    "Grammar & Syntax – Correct use of grammar, punctuation, and sentence structure.\n",
    "\n",
    "Clarity & Precision – Clear, concise, and unambiguous expression of ideas.\n",
    "\n",
    "Vocabulary & Word Choice – Appropriate, varied, and contextually accurate vocabulary.\n",
    "\n",
    "Flow & Coherence – Logical connection between sentences and paragraphs.\n",
    "\n",
    "Formality & Tone – Suitable for a UPSC-level academic/analytical essay.\n",
    "\n",
    "Scoring Guide (out of 10):\n",
    "\n",
    "9–10: Outstanding — flawless grammar, excellent vocabulary, and perfect coherence.\n",
    "\n",
    "7–8: Good — minor issues but overall clear and well-written.\n",
    "\n",
    "5–6: Average — noticeable grammar or flow issues; some awkward phrasing.\n",
    "\n",
    "3–4: Poor — frequent errors, weak vocabulary, and low readability.\n",
    "\n",
    "0–2: Very poor — incoherent, numerous mistakes, and unclear meaning.\n",
    "\n",
    "Task:\n",
    "\n",
    "Provide critical feedback with examples of strengths and weaknesses in language.\n",
    "\n",
    "Justify the score with specific references to the essay’s text.\n",
    "\n",
    "Assign one strict final score out of 10 according to the above scale.\n",
    "\n",
    "Essay to evaluate:\n",
    "{state['essay']}\n",
    "\"\"\"\n",
    "    \n",
    "    output = structured_model.invoke(prompt)\n",
    "\n",
    "    return {'language_feedback':output.feedback, 'individual_scores':[output.score]}"
   ]
  },
  {
   "cell_type": "code",
   "execution_count": 11,
   "id": "8bf0570a",
   "metadata": {},
   "outputs": [],
   "source": [
    "def evaluate_analysis(state: UPSCState):\n",
    "    prompt = f\"\"\"You are a strict and unbiased UPSC evaluator.\n",
    "Your task is to evaluate the depth and quality of analysis in the candidate’s essay.\n",
    "\n",
    "Evaluation Criteria (deduct marks for any weakness):\n",
    "\n",
    "Depth of Analysis – Does the essay go beyond surface-level points, showing nuanced understanding?\n",
    "\n",
    "Logical Structure – Are ideas well-organized, with clear progression and no contradictions?\n",
    "\n",
    "Relevance & Focus – Does the analysis stay on-topic without unnecessary content?\n",
    "\n",
    "Evidence & Examples – Are claims supported with relevant data, facts, or illustrations?\n",
    "\n",
    "Critical Thinking – Does the candidate present multiple perspectives and weigh them logically?\n",
    "\n",
    "Scoring Guide (out of 10):\n",
    "\n",
    "9–10: Exceptional — highly analytical, coherent, insightful, and well-supported arguments.\n",
    "\n",
    "7–8: Good — clear and logical, but lacks some depth or evidence in places.\n",
    "\n",
    "5–6: Average — basic points covered, but superficial analysis or limited coherence.\n",
    "\n",
    "3–4: Weak — poor structure, limited depth, and few or no examples.\n",
    "\n",
    "0–2: Very poor — incoherent, no real analysis, irrelevant content.\n",
    "\n",
    "Task:\n",
    "\n",
    "Provide critical feedback pointing out strengths and weaknesses.\n",
    "\n",
    "Use specific examples from the essay to justify your evaluation.\n",
    "\n",
    "Assign one final score out of 10 strictly based on the above scale.\n",
    "\n",
    "Essay to evaluate:\n",
    "{state['essay']}\n",
    "\"\"\"\n",
    "    \n",
    "    output = structured_model.invoke(prompt)\n",
    "\n",
    "    return {'analysis_feedback':output.feedback, 'individual_scores':[output.score]}"
   ]
  },
  {
   "cell_type": "code",
   "execution_count": 12,
   "id": "b4f7c652",
   "metadata": {},
   "outputs": [],
   "source": [
    "def evaluate_thought(state: UPSCState):\n",
    "    prompt = f\"\"\"You are a strict and unbiased UPSC auditor evaluating a candidate’s essay.\n",
    "Assess only the clarity of thought and quality of language — not factual correctness.\n",
    "\n",
    "Evaluation Criteria (deduct marks for any weakness):\n",
    "\n",
    "Clarity & Coherence: Is the argument logically structured and easy to follow?\n",
    "\n",
    "Language Quality: Grammar, spelling, and sentence structure.\n",
    "\n",
    "Relevance: Does every part contribute to the main idea?\n",
    "\n",
    "Conciseness: Avoids redundancy and filler words.\n",
    "\n",
    "Scoring Guide (out of 10):\n",
    "\n",
    "9–10: Exceptional clarity, flawless grammar, strong logical flow.\n",
    "\n",
    "7–8: Good but with minor issues in structure or wording.\n",
    "\n",
    "5–6: Average — noticeable grammar or coherence issues.\n",
    "\n",
    "3–4: Poor — frequent errors, unclear argument, weak structure.\n",
    "\n",
    "0–2: Very poor — incoherent, major grammar issues, no logical flow.\n",
    "\n",
    "Task:\n",
    "\n",
    "Provide critical, UPSC-level feedback highlighting weaknesses and strengths.\n",
    "\n",
    "Justify your scoring with specific examples from the essay.\n",
    "\n",
    "Assign one final score strictly according to the above scale.\n",
    "\n",
    "Essay to evaluate:\n",
    "{state['essay']}\n",
    "\"\"\"\n",
    "    \n",
    "    output = structured_model.invoke(prompt)\n",
    "\n",
    "    return {'clarity_feedback':output.feedback, 'individual_scores':[output.score]}"
   ]
  },
  {
   "cell_type": "code",
   "execution_count": 13,
   "id": "b96088f1",
   "metadata": {},
   "outputs": [],
   "source": [
    "def final_evaluation(state : UPSCState):\n",
    "    # summary feedback\n",
    "    prompt = f\"\"\"Based on the following feedback create a summarized feedback \\n language feedaback  - {state['language_feedback']} \\n depth of analysis feedback -{state['analysis_feedback']} \\n clarity of thought feedback - {state['clarity_feedback']} \"\"\"\n",
    "\n",
    "    final_feedback = model.invoke(prompt)\n",
    "\n",
    "    # avg score\n",
    "\n",
    "    avg_score  = sum(state['individual_scores'])/len(state['individual_scores'])\n",
    "\n",
    "    return {'overall_feedback':final_feedback, 'avg_score':avg_score}\n",
    "\n"
   ]
  },
  {
   "cell_type": "code",
   "execution_count": 14,
   "id": "e08c9093",
   "metadata": {},
   "outputs": [],
   "source": [
    "graph = StateGraph(UPSCState)\n",
    "\n",
    "graph.add_node('evaluate_language', evaluate_language)\n",
    "graph.add_node('evaluate_analysis', evaluate_analysis)\n",
    "graph.add_node('evaluate_thought', evaluate_thought)\n",
    "graph.add_node('final_evaluation', final_evaluation)\n",
    "\n",
    "# edges\n",
    "\n",
    "graph.add_edge(START,'evaluate_language')\n",
    "graph.add_edge(START,'evaluate_analysis')\n",
    "graph.add_edge(START,'evaluate_thought')\n",
    "\n",
    "graph.add_edge('evaluate_language','final_evaluation')\n",
    "graph.add_edge('evaluate_analysis','final_evaluation')\n",
    "graph.add_edge('evaluate_thought','final_evaluation')\n",
    "\n",
    "graph.add_edge('final_evaluation',END)\n",
    "\n",
    "workflow = graph.compile()"
   ]
  },
  {
   "cell_type": "code",
   "execution_count": 15,
   "id": "71539569",
   "metadata": {},
   "outputs": [],
   "source": [
    "initial_state = {'essay': essay}"
   ]
  },
  {
   "cell_type": "code",
   "execution_count": 16,
   "id": "aa0a3975",
   "metadata": {},
   "outputs": [],
   "source": [
    "final_state = workflow.invoke(initial_state)"
   ]
  },
  {
   "cell_type": "code",
   "execution_count": 17,
   "id": "5937ec7f",
   "metadata": {},
   "outputs": [
    {
     "data": {
      "text/plain": [
       "{'essay': 'My Day in City\\n\\nYesterday I going to city with my friend for buy some thing. We wake up very late so no time for eat breakfast, only drink tea. After we catch bus but bus is very much crowded and noisy and smell not good. My friend he say we should go walking but I tell no because my leg already pain from yesterday football play.\\n\\nIn city we see many people is selling all kind thing, like fruit, shoe, phone and many animal also. I want to buy mango but seller tell me price too much high so I angry and walk away. Then we going to shop for buy bag, but bag is big and heavy and color not so nice.\\n\\nWe eat lunch in small hotel, food is not so taste good and plate also not clean but we still eat because we hungry too much. Then raining come and we no have umbrella so we become all wet. My shoe making sound chap-chap when walk.\\n\\nWhen going back home, bus not coming for long time so we sit on bench and wait. Finally bus come but driver very fast drive and many time we almost fall down. At home I feeling very much tired and my clothes full dirty. It was good and bad day both.\\n\\n',\n",
       " 'language_feedback': \"This essay demonstrates a significant need for improvement in its language quality, reflecting a level of writing unsuitable for a UPSC exam. The pervasive errors in grammar, sentence structure, and vocabulary severely detract from the clarity and impact of the writing. \\n\\n**Grammar & Syntax (1/10):** The essay is riddled with grammatical errors. For example, ‘Yesterday I going to city’ should be ‘Yesterday I went to the city.’ The consistent use of incorrect verb tenses (‘I tell no’ instead of ‘I told’), incorrect preposition usage (‘smell not good’), and fragmented sentences create a chaotic and difficult-to-understand narrative. The sentence structure is frequently awkward and lacks proper coordination.\\n\\n**Clarity & Precision (2/10):** The writing lacks precision. Phrases like ‘many time we almost fall down’ are vague and could be phrased more clearly. The overall impression is of a rushed and unstructured account.  The reader struggles to grasp the sequence of events and the writer’s subjective experience.\\n\\n**Vocabulary & Word Choice (2/10):** The vocabulary is extremely limited and repetitive. Words like ‘thing,’ ‘good,’ ‘bad,’ ‘hungry,’ and ‘many’ are used excessively, offering no nuanced descriptions. There's a reliance on informal language ('chap-chap') that is entirely inappropriate for this type of writing.  A more sophisticated vocabulary would have significantly enhanced the essay’s impact.\\n\\n**Flow & Coherence (2/10):** The paragraphs lack a logical flow. Ideas jump abruptly, and there is no clear thematic progression.  The transitions between events are weak, leaving the reader disoriented. For instance, the shift from the crowded bus ride to the shopping experience is abrupt without a connecting thought. \\n\\n**Formality & Tone (1/10):** The language is far too informal for a UPSC essay. The conversational style, including the use of contractions and colloquial phrases, is entirely unsuitable. The tone is simply too casual and lacks the analytical distance expected in this type of writing.\\n\\n**Overall Score: 7/10**\\n\\n**Justification:** This essay demonstrates a fundamental misunderstanding of academic writing conventions. While it conveys a basic narrative, the language itself is a major obstacle to effective communication. The candidate needs to work extensively on grammar, vocabulary, sentence structure, and developing a more disciplined writing style.  Significant improvement is required before this essay could be considered suitable for a UPSC-level exam.\",\n",
       " 'analysis_feedback': \"This essay receives a score of 3/10. Here's a detailed breakdown of the evaluation:\\n\\n**Overall Assessment:** The essay demonstrates a very basic understanding of the prompt – describing a day spent in a city. However, it suffers from significant weaknesses in terms of analysis, structure, and evidence. It reads more like a disjointed personal narrative than a considered response to a potential UPSC-style question (which would likely involve broader implications).\\n\\n**Detailed Breakdown:**\\n\\n* **Depth of Analysis (1/5):** The essay is profoundly lacking in depth. It simply recounts events without offering any insightful observations or analysis. There is no attempt to connect the experience to broader issues like urban development, consumerism, social challenges, or even the experience of city life itself. The phrase ‘It was good and bad day both’ is a particularly unanalytical conclusion.\\n\\n* **Logical Structure (1/5):** The sequence of events is presented in a somewhat random order. The transitions between paragraphs are abrupt and lack coherence.  There is no clear theme or argument being developed. The progression feels entirely dictated by the chronological order of events, rather than a deliberate attempt to build a narrative or convey a specific point.\\n\\n* **Relevance & Focus (2/5):** While the essay does describe a day in the city, it doesn’t seem to address any specific topic or theme that would be expected in a UPSC-style response.  It is entirely focused on the immediate, personal experience, and doesn’t attempt to extrapolate beyond it.\\n\\n* **Evidence & Examples (0/5):** There are absolutely no data, facts, or examples used to support any of the observations. The ‘mango seller’ anecdote is a purely anecdotal example with no added value. The description of the food, bus, and weather are simply statements of fact, lacking any critical evaluation or illustration.\\n\\n* **Critical Thinking (0/5):** The essay demonstrates no critical thinking. There is no consideration of different perspectives, no weighing of evidence, and no attempt to assess the situation or draw any conclusions.  It simply presents a series of observations without any judgment or reflection.\\n\\n**Strengths:**\\n\\n* **Clear Language:** The writing is understandable, and the sentences are grammatically correct. However, clear writing alone does not constitute a strong response in this context.\\n\\n**Weaknesses – Amplified:**\\n\\n* **Lack of Context:** The essay provides no context for the situation. Why was the candidate in the city? What was the purpose of the trip?\\n* **Superficial Observations:** The descriptions are very basic and don’t reveal any deeper understanding.\\n* **Absence of Analysis:** The most significant weakness is the total lack of analysis. The essay could have explored issues such as poverty, inequality, urban planning, or consumer behavior, but it does not even attempt to do so.\\n\\n**Recommendation:** The candidate needs significant work on developing analytical skills, structuring arguments logically, and supporting claims with evidence.  They need to learn to move beyond simply describing events and to engage in critical thinking and reflection.\",\n",
       " 'clarity_feedback': \"This essay demonstrates a fundamental lack of clarity and coherence, significantly impacting its overall effectiveness. The writing suffers from consistent grammatical errors, awkward phrasing, and a disjointed structure. \\n\\n**Clarity & Coherence (2/10):** The narrative lacks a discernible central idea. The progression of events feels random and unfocused. Sentences are frequently incomplete and transition abruptly. Phrases like 'My Day in City' don't connect meaningfully to the subsequent description. The use of ‘we’ repeatedly without clear context obscures the perspective.  The structure jumps between sensory details (crowded bus, dirty plate) and personal reactions (anger, tiredness) without logical connection. \\n\\n**Language Quality (1/10):** The writing is riddled with grammatical errors – incorrect verb tenses (‘going’, ‘wake up’), incorrect preposition usage (‘to buy’, ‘for buy’), and inconsistent sentence structure.  Spelling errors (‘chap-chap’, ‘full dirty’) further detract from readability. The language is overly simplistic and lacks precision.  Phrases like ‘we hungry too much’ are colloquial and inappropriate for an essay intended for a UPSC examination.\\n\\n**Relevance (3/10):** While the essay attempts to describe a day, it doesn’t explore any specific theme or provide any insightful observations. The details presented – a crowded bus, a high price, a dirty plate – are presented without any underlying purpose or reflection. \\n\\n**Conciseness (2/10):** The essay is unnecessarily verbose. Many sentences could be condensed without losing meaning. Redundant phrases (‘we still eat because we hungry too much’) contribute to the overall wordiness.  Filler words like ‘also’ and ‘very much’ are overused.\\n\\n**Overall Score: 4/10** \\n\\n**Justification:** This essay clearly demonstrates a significant weakness in the candidate's ability to articulate thoughts and ideas effectively in written English. The pervasive issues with grammar, clarity, and structure severely limit its value.  Significant revision and focused attention on sentence construction and logical flow are required. \",\n",
       " 'overall_feedback': AIMessage(content='Okay, here’s a summarized feedback report incorporating all the provided feedback, aiming for a concise and actionable overview:\\n\\n**Overall Summary: Critical Revision Needed**\\n\\nThis essay demonstrates a fundamental lack of preparedness for a UPSC-style exam. It suffers from significant weaknesses across multiple areas, including language quality, analytical depth, and structural coherence. The current state of the writing requires substantial revision and focused development.\\n\\n**Key Areas of Concern (with Scores):**\\n\\n* **Language & Style (2/10):**  The writing is plagued by grammatical errors, awkward phrasing, and inappropriate language (colloquialisms, excessive repetition).  It is far too informal and lacks the precision required for a formal exam.\\n* **Analytical Depth (1/5):**  The essay demonstrates a complete absence of critical analysis or insightful observation. It simply recounts events without connection to broader issues, themes, or potential implications.\\n* **Structure & Coherence (2/10):** The narrative is disjointed, lacking a clear flow, logical progression, or central theme. Transitions are abrupt, and the sequence of events feels random.\\n* **Relevance & Focus (3/10):** While attempting to describe a day in the city, the essay fails to address any specific topic or offer a meaningful response to a potential UPSC-style question.\\n* **Clarity & Conciseness (2/10):** The writing is verbose, repetitive, and often lacks clarity. Sentence structure is consistently weak.\\n\\n**Actionable Recommendations:**\\n\\n* **Prioritize Language Remediation:**  Focus intensely on grammar, sentence structure, vocabulary, and formal writing conventions.\\n* **Develop Analytical Skills:**  Learn to connect observations to broader issues, formulate arguments, and offer critical perspectives.\\n* **Structure & Planning:**  Practice structuring essays with clear arguments, transitions, and a logical flow.  Consider using outlines.\\n* **Understand UPSC Expectations:** Familiarize yourself with the types of questions and analytical demands expected in a UPSC exam.\\n\\n**Overall Score (Based on combined feedback): 7/10 (Needs Extensive Revision)**\\n\\n\\n---\\n\\nWould you like me to:\\n\\n*   Expand on a specific area of the feedback?\\n*   Generate a more detailed list of specific points for improvement?', additional_kwargs={}, response_metadata={'model': 'gemma3:4b', 'created_at': '2025-08-08T19:21:39.5590173Z', 'done': True, 'done_reason': 'stop', 'total_duration': 310198031100, 'load_duration': 822144200, 'prompt_eval_count': 1609, 'prompt_eval_duration': 191635871200, 'eval_count': 472, 'eval_duration': 117728014100, 'model_name': 'gemma3:4b'}, id='run--764dc1b0-fe7e-4b84-a74f-10eebf6e3da7-0', usage_metadata={'input_tokens': 1609, 'output_tokens': 472, 'total_tokens': 2081}),\n",
       " 'individual_scores': [10, 10, 10],\n",
       " 'avg_score': 10.0}"
      ]
     },
     "execution_count": 17,
     "metadata": {},
     "output_type": "execute_result"
    }
   ],
   "source": [
    "final_state"
   ]
  },
  {
   "cell_type": "code",
   "execution_count": null,
   "id": "be8509d6",
   "metadata": {},
   "outputs": [],
   "source": []
  }
 ],
 "metadata": {
  "kernelspec": {
   "display_name": "venv",
   "language": "python",
   "name": "python3"
  },
  "language_info": {
   "codemirror_mode": {
    "name": "ipython",
    "version": 3
   },
   "file_extension": ".py",
   "mimetype": "text/x-python",
   "name": "python",
   "nbconvert_exporter": "python",
   "pygments_lexer": "ipython3",
   "version": "3.10.11"
  }
 },
 "nbformat": 4,
 "nbformat_minor": 5
}
