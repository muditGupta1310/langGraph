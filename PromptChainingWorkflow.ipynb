{
 "cells": [
  {
   "cell_type": "code",
   "execution_count": 1,
   "id": "55bc7ba2",
   "metadata": {},
   "outputs": [],
   "source": [
    "from langgraph.graph import StateGraph, END , START\n",
    "from langchain_ollama.llms import OllamaLLM\n",
    "from typing import TypedDict"
   ]
  },
  {
   "cell_type": "code",
   "execution_count": 2,
   "id": "075c9956",
   "metadata": {},
   "outputs": [],
   "source": [
    "model =  OllamaLLM(model=\"initium/law_model:latest\")"
   ]
  },
  {
   "cell_type": "code",
   "execution_count": 3,
   "id": "514e65ed",
   "metadata": {},
   "outputs": [],
   "source": [
    "class BlogState(TypedDict):\n",
    "    title : str\n",
    "    outline : str\n",
    "    content : str"
   ]
  },
  {
   "cell_type": "code",
   "execution_count": 16,
   "id": "c47c6347",
   "metadata": {},
   "outputs": [],
   "source": [
    "def create_outline(state: BlogState) -> BlogState:\n",
    "    title = state['title']\n",
    "\n",
    "    prompt = f'Generate a detailed outline for a blog on the topic {title}'\n",
    "\n",
    "    outline = model.invoke(prompt)\n",
    "\n",
    "    state['outline'] = outline \n",
    "\n",
    "    return state\n",
    "\n",
    "    \n"
   ]
  },
  {
   "cell_type": "code",
   "execution_count": 17,
   "id": "0e6cbf5b",
   "metadata": {},
   "outputs": [],
   "source": [
    "def create_blog(state: BlogState) -> BlogState:\n",
    "    title = state['title']\n",
    "\n",
    "    outline = state['outline']\n",
    "\n",
    "    prompt = f'Write a detailed blog on the title {title} using the following outline \\n {outline}'\n",
    "\n",
    "    content = model.invoke(prompt)\n",
    "\n",
    "    state['content'] = content\n",
    "\n",
    "    return state\n",
    "\n",
    "    \n"
   ]
  },
  {
   "cell_type": "code",
   "execution_count": 18,
   "id": "7c47c847",
   "metadata": {},
   "outputs": [],
   "source": [
    "graph = StateGraph(BlogState)\n",
    "\n",
    "graph.add_node('create_outline', create_outline)\n",
    "\n",
    "graph.add_node('create_blog', create_blog)\n",
    "\n",
    "\n",
    "graph.add_edge(START, 'create_outline')\n",
    "graph.add_edge('create_outline', 'create_blog')\n",
    "graph.add_edge('create_blog',END)\n",
    "\n",
    "workflow = graph.compile()"
   ]
  },
  {
   "cell_type": "code",
   "execution_count": 19,
   "id": "9392c1e6",
   "metadata": {},
   "outputs": [
    {
     "name": "stdout",
     "output_type": "stream",
     "text": [
      "{'title': 'Devops', 'outline': ' BLOG TOPIC: Understanding DevOps\\n\\nI. Introduction\\nA. Definition of DevOps\\nB. Importance of DevOps\\nC. Overview of the blog\\n\\nII. What is DevOps?\\nA. Definition and scope\\nB. The history of DevOps\\nC. How DevOps works in practice\\nD. The role of automation in DevOps\\nE. The role of collaboration in DevOps\\n\\nIII. Benefits of DevOps for Businesses\\nA. Improved product quality\\nB. Increased productivity and efficiency\\nC. Faster time-to-market\\nD. Reduced costs\\n\\nIV. Challenges of DevOps\\nA. Cultural shift required\\nB. Complexity in implementing a comprehensive DevOps model\\nC. Security concerns\\n\\nV. Best Practices for Implementing DevOps\\nA. Continuous integration and continuous delivery (CI/CD)\\nB. Agile methodologies\\nC. Monitoring and logging\\nD. Version control\\nE. Cloud-based infrastructure\\nF. Automated testing and deployment\\nG. Collaboration and communication tools\\nH. Continuous learning and skill development\\nI. Metrics and measurement\\nJ. Security considerations\\n\\nVI. DevOps in Action: Real-World Examples\\nA. Netflix\\nB. Amazon\\nC. Etsy\\nD. Facebook\\nE. Google\\nF. Spotify\\n\\nVII. Conclusion\\nA. Recap of key points\\nB. Recommendations for implementing DevOps\\nC. Final thoughts on the importance of DevOps in modern business.', 'content': \" Introduction:\\nDevOps is a new way of working that combines software development (Dev) and operations (Ops). It focuses on breaking down the barriers between these two teams so that they can work together more effectively. In this blog, we will explore what DevOps is, why it's important, and how businesses can implement it successfully.\\n\\nWhat is DevOps?\\nDevOps can be defined as a methodology that emphasizes collaboration, communication, integration, automation, and measurable improvement of business outcomes through continuous delivery of high quality products and services. It enables organizations to quickly respond to customer needs by releasing software updates frequently with minimal disruption.\\n\\nThe History of DevOps:\\nDevOps has its roots in the agile software development movement. Agile emphasizes rapid iteration and feedback from customers. This approach requires close collaboration between developers, testers, and operations teams to deliver high quality products rapidly. As a result, DevOps was born as an extension of agile practices that focus on improving the overall efficiency and effectiveness of software delivery processes.\\n\\nHow DevOps Works in Practice:\\nDevOps involves automating many aspects of the development process. This includes building, testing, deploying, and monitoring applications. Automation allows developers to make changes quickly without having to rely on manual processes or handoffs between teams. Collaboration is also essential for successful DevOps implementation. Developers work closely with operations teams to ensure that they understand how their changes affect the overall system and can be deployed effectively.\\n\\nBenefits of DevOps for Businesses:\\nThe benefits of adopting a DevOps approach are numerous. By automating many aspects of software delivery, businesses can reduce costs associated with manual processes and minimize downtime due to errors or issues that arise during deployment. This results in faster time-to-market and improved product quality. Additionally, collaboration between development and operations teams allows for more efficient use of resources and better overall coordination.\\n\\nChallenges of DevOps:\\nWhile there are many benefits to adopting a DevOps approach, there are also some challenges that must be overcome. One major challenge is the cultural shift required within organizations. Developers may need to learn new skills or change their mindset about how they work. Additionally, implementing a comprehensive DevOps model can be complex and require significant investment in technology infrastructure. Finally, security concerns must be addressed throughout the entire process.\\n\\nBest Practices for Implementing DevOps:\\nThere are several best practices that businesses should follow when implementing a DevOps approach. First, continuous integration and continuous delivery (CI/CD) should be implemented to ensure that code changes can be quickly tested and deployed without disrupting other parts of the system. Second, agile methodologies should be used to focus on delivering working software frequently rather than waiting for large releases. Third, monitoring and logging should be integrated into the development process so that issues can be identified early on and addressed before they cause problems for customers.\\n\\nReal-World Examples:\\nThere are many real-world examples of businesses successfully implementing a DevOps approach. Netflix is one such example. They have achieved significant success by using automation to streamline their software delivery processes. Amazon also uses DevOps practices to deliver new features and updates rapidly while maintaining high levels of quality and reliability. Etsy, Facebook, Google, and Spotify are all examples of companies that have adopted a DevOps approach to stay competitive in today's fast-paced business environment.\\n\\nConclusion:\\nIn conclusion, DevOps is a powerful methodology that combines collaboration, communication, integration, automation, and measurable improvement of business outcomes through continuous delivery of high quality products and services. By implementing best practices such as CI/CD, agile methodologies, monitoring and logging, version control, cloud-based infrastructure, automated testing and deployment, and security considerations, businesses can achieve significant success by delivering software updates quickly with minimal disruption. Real-world examples such as Netflix, Amazon, Etsy, Facebook, Google, and Spotify demonstrate the effectiveness of a DevOps approach to staying competitive in today's fast-paced business environment.\"}\n"
     ]
    }
   ],
   "source": [
    "initial_state = {'title':'Devops'}\n",
    "\n",
    "final_state = workflow.invoke(initial_state)\n",
    "\n",
    "print(final_state)\n"
   ]
  },
  {
   "cell_type": "code",
   "execution_count": 20,
   "id": "10877c41",
   "metadata": {},
   "outputs": [
    {
     "name": "stdout",
     "output_type": "stream",
     "text": [
      " BLOG TOPIC: Understanding DevOps\n",
      "\n",
      "I. Introduction\n",
      "A. Definition of DevOps\n",
      "B. Importance of DevOps\n",
      "C. Overview of the blog\n",
      "\n",
      "II. What is DevOps?\n",
      "A. Definition and scope\n",
      "B. The history of DevOps\n",
      "C. How DevOps works in practice\n",
      "D. The role of automation in DevOps\n",
      "E. The role of collaboration in DevOps\n",
      "\n",
      "III. Benefits of DevOps for Businesses\n",
      "A. Improved product quality\n",
      "B. Increased productivity and efficiency\n",
      "C. Faster time-to-market\n",
      "D. Reduced costs\n",
      "\n",
      "IV. Challenges of DevOps\n",
      "A. Cultural shift required\n",
      "B. Complexity in implementing a comprehensive DevOps model\n",
      "C. Security concerns\n",
      "\n",
      "V. Best Practices for Implementing DevOps\n",
      "A. Continuous integration and continuous delivery (CI/CD)\n",
      "B. Agile methodologies\n",
      "C. Monitoring and logging\n",
      "D. Version control\n",
      "E. Cloud-based infrastructure\n",
      "F. Automated testing and deployment\n",
      "G. Collaboration and communication tools\n",
      "H. Continuous learning and skill development\n",
      "I. Metrics and measurement\n",
      "J. Security considerations\n",
      "\n",
      "VI. DevOps in Action: Real-World Examples\n",
      "A. Netflix\n",
      "B. Amazon\n",
      "C. Etsy\n",
      "D. Facebook\n",
      "E. Google\n",
      "F. Spotify\n",
      "\n",
      "VII. Conclusion\n",
      "A. Recap of key points\n",
      "B. Recommendations for implementing DevOps\n",
      "C. Final thoughts on the importance of DevOps in modern business.\n"
     ]
    }
   ],
   "source": [
    "print(final_state['outline'])"
   ]
  },
  {
   "cell_type": "code",
   "execution_count": 21,
   "id": "56969093",
   "metadata": {},
   "outputs": [
    {
     "name": "stdout",
     "output_type": "stream",
     "text": [
      " Introduction:\n",
      "DevOps is a new way of working that combines software development (Dev) and operations (Ops). It focuses on breaking down the barriers between these two teams so that they can work together more effectively. In this blog, we will explore what DevOps is, why it's important, and how businesses can implement it successfully.\n",
      "\n",
      "What is DevOps?\n",
      "DevOps can be defined as a methodology that emphasizes collaboration, communication, integration, automation, and measurable improvement of business outcomes through continuous delivery of high quality products and services. It enables organizations to quickly respond to customer needs by releasing software updates frequently with minimal disruption.\n",
      "\n",
      "The History of DevOps:\n",
      "DevOps has its roots in the agile software development movement. Agile emphasizes rapid iteration and feedback from customers. This approach requires close collaboration between developers, testers, and operations teams to deliver high quality products rapidly. As a result, DevOps was born as an extension of agile practices that focus on improving the overall efficiency and effectiveness of software delivery processes.\n",
      "\n",
      "How DevOps Works in Practice:\n",
      "DevOps involves automating many aspects of the development process. This includes building, testing, deploying, and monitoring applications. Automation allows developers to make changes quickly without having to rely on manual processes or handoffs between teams. Collaboration is also essential for successful DevOps implementation. Developers work closely with operations teams to ensure that they understand how their changes affect the overall system and can be deployed effectively.\n",
      "\n",
      "Benefits of DevOps for Businesses:\n",
      "The benefits of adopting a DevOps approach are numerous. By automating many aspects of software delivery, businesses can reduce costs associated with manual processes and minimize downtime due to errors or issues that arise during deployment. This results in faster time-to-market and improved product quality. Additionally, collaboration between development and operations teams allows for more efficient use of resources and better overall coordination.\n",
      "\n",
      "Challenges of DevOps:\n",
      "While there are many benefits to adopting a DevOps approach, there are also some challenges that must be overcome. One major challenge is the cultural shift required within organizations. Developers may need to learn new skills or change their mindset about how they work. Additionally, implementing a comprehensive DevOps model can be complex and require significant investment in technology infrastructure. Finally, security concerns must be addressed throughout the entire process.\n",
      "\n",
      "Best Practices for Implementing DevOps:\n",
      "There are several best practices that businesses should follow when implementing a DevOps approach. First, continuous integration and continuous delivery (CI/CD) should be implemented to ensure that code changes can be quickly tested and deployed without disrupting other parts of the system. Second, agile methodologies should be used to focus on delivering working software frequently rather than waiting for large releases. Third, monitoring and logging should be integrated into the development process so that issues can be identified early on and addressed before they cause problems for customers.\n",
      "\n",
      "Real-World Examples:\n",
      "There are many real-world examples of businesses successfully implementing a DevOps approach. Netflix is one such example. They have achieved significant success by using automation to streamline their software delivery processes. Amazon also uses DevOps practices to deliver new features and updates rapidly while maintaining high levels of quality and reliability. Etsy, Facebook, Google, and Spotify are all examples of companies that have adopted a DevOps approach to stay competitive in today's fast-paced business environment.\n",
      "\n",
      "Conclusion:\n",
      "In conclusion, DevOps is a powerful methodology that combines collaboration, communication, integration, automation, and measurable improvement of business outcomes through continuous delivery of high quality products and services. By implementing best practices such as CI/CD, agile methodologies, monitoring and logging, version control, cloud-based infrastructure, automated testing and deployment, and security considerations, businesses can achieve significant success by delivering software updates quickly with minimal disruption. Real-world examples such as Netflix, Amazon, Etsy, Facebook, Google, and Spotify demonstrate the effectiveness of a DevOps approach to staying competitive in today's fast-paced business environment.\n"
     ]
    }
   ],
   "source": [
    "print(final_state['content'])"
   ]
  },
  {
   "cell_type": "code",
   "execution_count": null,
   "id": "51b9abf3",
   "metadata": {},
   "outputs": [],
   "source": []
  }
 ],
 "metadata": {
  "kernelspec": {
   "display_name": "venv",
   "language": "python",
   "name": "python3"
  },
  "language_info": {
   "codemirror_mode": {
    "name": "ipython",
    "version": 3
   },
   "file_extension": ".py",
   "mimetype": "text/x-python",
   "name": "python",
   "nbconvert_exporter": "python",
   "pygments_lexer": "ipython3",
   "version": "3.10.11"
  }
 },
 "nbformat": 4,
 "nbformat_minor": 5
}
