{
 "cells": [
  {
   "cell_type": "code",
   "execution_count": 1,
   "id": "55bc7ba2",
   "metadata": {},
   "outputs": [],
   "source": [
    "from langgraph.graph import StateGraph, END , START\n",
    "from langchain_ollama.llms import OllamaLLM\n",
    "from typing import TypedDict"
   ]
  },
  {
   "cell_type": "code",
   "execution_count": 2,
   "id": "075c9956",
   "metadata": {},
   "outputs": [],
   "source": [
    "model =  OllamaLLM(model=\"initium/law_model:latest\")"
   ]
  },
  {
   "cell_type": "code",
   "execution_count": 3,
   "id": "514e65ed",
   "metadata": {},
   "outputs": [],
   "source": [
    "class BlogState(TypedDict):\n",
    "    title : str\n",
    "    outline : str\n",
    "    content : str"
   ]
  },
  {
   "cell_type": "code",
   "execution_count": 4,
   "id": "c47c6347",
   "metadata": {},
   "outputs": [],
   "source": [
    "def create_outline(state: BlogState) -> BlogState:\n",
    "    title = state['title']\n",
    "\n",
    "    prompt = f'Generate a detailed outline for a blog on the topic {title}'\n",
    "\n",
    "    outline = model.invoke({prompt})\n",
    "\n",
    "    state['outline'] = outline \n",
    "\n",
    "    return state\n",
    "\n",
    "    \n"
   ]
  },
  {
   "cell_type": "code",
   "execution_count": 6,
   "id": "0e6cbf5b",
   "metadata": {},
   "outputs": [],
   "source": [
    "def create_blog(state: BlogState) -> BlogState:\n",
    "    title = state['title']\n",
    "\n",
    "    outline = state['outline']\n",
    "\n",
    "    prompt = f'Write a detailed blog on the title {title} using the following outline \\n {outline}'\n",
    "\n",
    "    content = model.invoke({prompt})\n",
    "\n",
    "    state['content'] = content\n",
    "\n",
    "    return state\n",
    "\n",
    "    \n"
   ]
  },
  {
   "cell_type": "code",
   "execution_count": 9,
   "id": "7c47c847",
   "metadata": {},
   "outputs": [],
   "source": [
    "graph = StateGraph(BlogState)\n",
    "\n",
    "graph.add_node('create_outline', create_outline)\n",
    "\n",
    "graph.add_node('create_blog', create_blog)\n",
    "\n",
    "\n",
    "graph.add_edge(START, 'create_outline')\n",
    "graph.add_edge('create_outline', 'create_blog')\n",
    "graph.add_edge('create_blog',END)\n",
    "\n",
    "workflow = graph.compile()"
   ]
  },
  {
   "cell_type": "code",
   "execution_count": null,
   "id": "9392c1e6",
   "metadata": {},
   "outputs": [],
   "source": [
    "initial_state = {'title':'Devops'}\n",
    "\n",
    "final_state = workflow.invoke(initial_state)\n",
    "\n"
   ]
  }
 ],
 "metadata": {
  "kernelspec": {
   "display_name": "venv",
   "language": "python",
   "name": "python3"
  },
  "language_info": {
   "codemirror_mode": {
    "name": "ipython",
    "version": 3
   },
   "file_extension": ".py",
   "mimetype": "text/x-python",
   "name": "python",
   "nbconvert_exporter": "python",
   "pygments_lexer": "ipython3",
   "version": "3.10.11"
  }
 },
 "nbformat": 4,
 "nbformat_minor": 5
}
