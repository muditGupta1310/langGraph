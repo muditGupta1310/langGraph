{
 "cells": [
  {
   "cell_type": "code",
   "execution_count": 18,
   "id": "87841ed1",
   "metadata": {},
   "outputs": [],
   "source": [
    "from langgraph.graph import StateGraph, START, END\n",
    "from typing import TypedDict, Literal\n",
    "from pydantic import BaseModel\n",
    "from langchain_ollama import ChatOllama\n",
    "from langgraph.checkpoint.memory import InMemorySaver"
   ]
  },
  {
   "cell_type": "code",
   "execution_count": 19,
   "id": "5db3c765",
   "metadata": {},
   "outputs": [],
   "source": [
    "model =  ChatOllama(model=\"gemma3:4b\")"
   ]
  },
  {
   "cell_type": "code",
   "execution_count": 20,
   "id": "235f40b0",
   "metadata": {},
   "outputs": [],
   "source": [
    "class JokeState(TypedDict):\n",
    "    topic : str\n",
    "    joke : str\n",
    "    explanation : str"
   ]
  },
  {
   "cell_type": "code",
   "execution_count": 21,
   "id": "8bf74a12",
   "metadata": {},
   "outputs": [],
   "source": [
    "def generate_joke(state:JokeState):\n",
    "    prompt = f\"\"\"\n",
    "    Genrate a joke on the topic {state['topic']}\n",
    "    \"\"\"\n",
    "\n",
    "    response = model.invoke(prompt)\n",
    "\n",
    "    return {'joke':response}"
   ]
  },
  {
   "cell_type": "code",
   "execution_count": 22,
   "id": "d4734c33",
   "metadata": {},
   "outputs": [],
   "source": [
    "def generate_explanantion(state:JokeState):\n",
    "    prompt = f\"\"\"\n",
    "    Write an explanation for the joke - {state['joke']}\n",
    "    \"\"\"\n",
    "\n",
    "    response = model.invoke(prompt)\n",
    "\n",
    "    return {'explanation':response}"
   ]
  },
  {
   "cell_type": "code",
   "execution_count": 23,
   "id": "b34993b0",
   "metadata": {},
   "outputs": [],
   "source": [
    "graph = StateGraph(JokeState)\n",
    "\n",
    "graph.add_node('generate_joke',generate_joke)\n",
    "graph.add_node('generate_explanation',generate_explanantion)\n",
    "\n",
    "graph.add_edge(START,'generate_joke')\n",
    "graph.add_edge('generate_joke','generate_explanation')\n",
    "graph.add_edge('generate_explanation',END)\n",
    "\n",
    "checkpointer = InMemorySaver()\n",
    "\n",
    "workflow = graph.compile(checkpointer = checkpointer)\n"
   ]
  },
  {
   "cell_type": "code",
   "execution_count": 36,
   "id": "619e92fc",
   "metadata": {},
   "outputs": [
    {
     "data": {
      "text/plain": [
       "{'topic': 'cricket',\n",
       " 'joke': AIMessage(content='Why did the cricket blush? \\n\\nBecause it saw the bowling ball! 😄 \\n\\n---\\n\\nWould you like to hear another cricket joke?', additional_kwargs={}, response_metadata={'model': 'gemma3:4b', 'created_at': '2025-08-12T19:58:59.924352Z', 'done': True, 'done_reason': 'stop', 'total_duration': 7805756700, 'load_duration': 411690400, 'prompt_eval_count': 20, 'prompt_eval_duration': 1313308800, 'eval_count': 30, 'eval_duration': 6079476100, 'model_name': 'gemma3:4b'}, id='run--cb5aaff4-92f2-4bb7-8e17-61778d68c052-0', usage_metadata={'input_tokens': 20, 'output_tokens': 30, 'total_tokens': 50}),\n",
       " 'explanation': AIMessage(content='Okay, here\\'s an explanation of the joke:\\n\\nThe joke plays on the double meaning of \"bowling ball.\" In cricket, a \"bowling ball\" is what the bowler throws to try and knock the batsman out (get them out). However, a \"bowling ball\" is also a regular ball used in bowling games.\\n\\nThe cricket joke sets up the expectation that it\\'s referring to the cricket game, and the punchline is the surprising revelation that the cricket is blushing because it saw a *real* bowling ball. It\\'s a silly, visual joke! 😄 \\n\\n---\\n\\nWould you like to hear another cricket joke?', additional_kwargs={}, response_metadata={'model': 'gemma3:4b', 'created_at': '2025-08-12T19:59:51.0740229Z', 'done': True, 'done_reason': 'stop', 'total_duration': 51142195000, 'load_duration': 255268400, 'prompt_eval_count': 293, 'prompt_eval_duration': 23655505700, 'eval_count': 134, 'eval_duration': 27228252900, 'model_name': 'gemma3:4b'}, id='run--aa18ff89-036c-44db-9e8a-41cc9395f52a-0', usage_metadata={'input_tokens': 293, 'output_tokens': 134, 'total_tokens': 427})}"
      ]
     },
     "execution_count": 36,
     "metadata": {},
     "output_type": "execute_result"
    }
   ],
   "source": [
    "config2 = {'configurable':{'thread_id':'2'}}\n",
    "\n",
    "workflow.invoke({'topic':'cricket'},config = config2)"
   ]
  },
  {
   "cell_type": "code",
   "execution_count": null,
   "id": "8ba2fa81",
   "metadata": {},
   "outputs": [
    {
     "data": {
      "text/plain": [
       "StateSnapshot(values={'topic': 'cricket', 'joke': AIMessage(content='Why did the cricket blush? \\n\\nBecause it saw the bowling ball! 😄 \\n\\n---\\n\\nWould you like to hear another cricket joke?', additional_kwargs={}, response_metadata={'model': 'gemma3:4b', 'created_at': '2025-08-12T19:58:59.924352Z', 'done': True, 'done_reason': 'stop', 'total_duration': 7805756700, 'load_duration': 411690400, 'prompt_eval_count': 20, 'prompt_eval_duration': 1313308800, 'eval_count': 30, 'eval_duration': 6079476100, 'model_name': 'gemma3:4b'}, id='run--cb5aaff4-92f2-4bb7-8e17-61778d68c052-0', usage_metadata={'input_tokens': 20, 'output_tokens': 30, 'total_tokens': 50}), 'explanation': AIMessage(content='Okay, here\\'s an explanation of the joke:\\n\\nThe joke plays on the double meaning of \"bowling ball.\" In cricket, a \"bowling ball\" is what the bowler throws to try and knock the batsman out (get them out). However, a \"bowling ball\" is also a regular ball used in bowling games.\\n\\nThe cricket joke sets up the expectation that it\\'s referring to the cricket game, and the punchline is the surprising revelation that the cricket is blushing because it saw a *real* bowling ball. It\\'s a silly, visual joke! 😄 \\n\\n---\\n\\nWould you like to hear another cricket joke?', additional_kwargs={}, response_metadata={'model': 'gemma3:4b', 'created_at': '2025-08-12T19:59:51.0740229Z', 'done': True, 'done_reason': 'stop', 'total_duration': 51142195000, 'load_duration': 255268400, 'prompt_eval_count': 293, 'prompt_eval_duration': 23655505700, 'eval_count': 134, 'eval_duration': 27228252900, 'model_name': 'gemma3:4b'}, id='run--aa18ff89-036c-44db-9e8a-41cc9395f52a-0', usage_metadata={'input_tokens': 293, 'output_tokens': 134, 'total_tokens': 427})}, next=(), config={'configurable': {'thread_id': '2', 'checkpoint_ns': '', 'checkpoint_id': '1f077b6e-8217-69a4-8006-34a42d7e380b'}}, metadata={'source': 'loop', 'step': 6, 'parents': {}}, created_at='2025-08-12T19:59:51.074653+00:00', parent_config={'configurable': {'thread_id': '2', 'checkpoint_ns': '', 'checkpoint_id': '1f077b6c-9a4e-67d0-8005-fd5e4441a26d'}}, tasks=(), interrupts=())"
      ]
     },
     "execution_count": 37,
     "metadata": {},
     "output_type": "execute_result"
    }
   ],
   "source": [
    "workflow.get_state(config2)"
   ]
  },
  {
   "cell_type": "code",
   "execution_count": 38,
   "id": "4adfeea0",
   "metadata": {},
   "outputs": [
    {
     "data": {
      "text/plain": [
       "[StateSnapshot(values={'topic': 'cricket', 'joke': AIMessage(content='Why did the cricket blush? \\n\\nBecause it saw the bowling ball! 😄 \\n\\n---\\n\\nWould you like to hear another cricket joke?', additional_kwargs={}, response_metadata={'model': 'gemma3:4b', 'created_at': '2025-08-12T19:58:59.924352Z', 'done': True, 'done_reason': 'stop', 'total_duration': 7805756700, 'load_duration': 411690400, 'prompt_eval_count': 20, 'prompt_eval_duration': 1313308800, 'eval_count': 30, 'eval_duration': 6079476100, 'model_name': 'gemma3:4b'}, id='run--cb5aaff4-92f2-4bb7-8e17-61778d68c052-0', usage_metadata={'input_tokens': 20, 'output_tokens': 30, 'total_tokens': 50}), 'explanation': AIMessage(content='Okay, here\\'s an explanation of the joke:\\n\\nThe joke plays on the double meaning of \"bowling ball.\" In cricket, a \"bowling ball\" is what the bowler throws to try and knock the batsman out (get them out). However, a \"bowling ball\" is also a regular ball used in bowling games.\\n\\nThe cricket joke sets up the expectation that it\\'s referring to the cricket game, and the punchline is the surprising revelation that the cricket is blushing because it saw a *real* bowling ball. It\\'s a silly, visual joke! 😄 \\n\\n---\\n\\nWould you like to hear another cricket joke?', additional_kwargs={}, response_metadata={'model': 'gemma3:4b', 'created_at': '2025-08-12T19:59:51.0740229Z', 'done': True, 'done_reason': 'stop', 'total_duration': 51142195000, 'load_duration': 255268400, 'prompt_eval_count': 293, 'prompt_eval_duration': 23655505700, 'eval_count': 134, 'eval_duration': 27228252900, 'model_name': 'gemma3:4b'}, id='run--aa18ff89-036c-44db-9e8a-41cc9395f52a-0', usage_metadata={'input_tokens': 293, 'output_tokens': 134, 'total_tokens': 427})}, next=(), config={'configurable': {'thread_id': '2', 'checkpoint_ns': '', 'checkpoint_id': '1f077b6e-8217-69a4-8006-34a42d7e380b'}}, metadata={'source': 'loop', 'step': 6, 'parents': {}}, created_at='2025-08-12T19:59:51.074653+00:00', parent_config={'configurable': {'thread_id': '2', 'checkpoint_ns': '', 'checkpoint_id': '1f077b6c-9a4e-67d0-8005-fd5e4441a26d'}}, tasks=(), interrupts=()),\n",
       " StateSnapshot(values={'topic': 'cricket', 'joke': AIMessage(content='Why did the cricket blush? \\n\\nBecause it saw the bowling ball! 😄 \\n\\n---\\n\\nWould you like to hear another cricket joke?', additional_kwargs={}, response_metadata={'model': 'gemma3:4b', 'created_at': '2025-08-12T19:58:59.924352Z', 'done': True, 'done_reason': 'stop', 'total_duration': 7805756700, 'load_duration': 411690400, 'prompt_eval_count': 20, 'prompt_eval_duration': 1313308800, 'eval_count': 30, 'eval_duration': 6079476100, 'model_name': 'gemma3:4b'}, id='run--cb5aaff4-92f2-4bb7-8e17-61778d68c052-0', usage_metadata={'input_tokens': 20, 'output_tokens': 30, 'total_tokens': 50}), 'explanation': AIMessage(content='Okay, here\\'s an explanation of the joke:\\n\\nThe joke relies on a pun. \"Rolling in their own sauce\" has two meanings:\\n\\n1.  **Literal:** It refers to meatballs being covered in tomato sauce.\\n2.  **Figurative:** It means someone is overly involved or perhaps obsessively focused on something (in this case, the meatballs).\\n\\nThe joke plays on this double meaning, suggesting the spaghetti broke up with the meatballs because they were too consumed by their relationship. It’s a silly, lighthearted observation! \\n\\nWould you like to hear another pasta joke?', additional_kwargs={}, response_metadata={'model': 'gemma3:4b', 'created_at': '2025-08-12T19:58:44.2513471Z', 'done': True, 'done_reason': 'stop', 'total_duration': 53014773400, 'load_duration': 240031300, 'prompt_eval_count': 306, 'prompt_eval_duration': 25323506900, 'eval_count': 125, 'eval_duration': 27449564100, 'model_name': 'gemma3:4b'}, id='run--b64be9ea-2b85-49fe-b120-066f777cc905-0', usage_metadata={'input_tokens': 306, 'output_tokens': 125, 'total_tokens': 431})}, next=('generate_explanation',), config={'configurable': {'thread_id': '2', 'checkpoint_ns': '', 'checkpoint_id': '1f077b6c-9a4e-67d0-8005-fd5e4441a26d'}}, metadata={'source': 'loop', 'step': 5, 'parents': {}}, created_at='2025-08-12T19:58:59.926625+00:00', parent_config={'configurable': {'thread_id': '2', 'checkpoint_ns': '', 'checkpoint_id': '1f077b6c-4fbd-6cf2-8004-8889bbe74695'}}, tasks=(PregelTask(id='a0fc60c9-e242-7a3d-3f35-04e6aea6ed3a', name='generate_explanation', path=('__pregel_pull', 'generate_explanation'), error=None, interrupts=(), state=None, result={'explanation': AIMessage(content='Okay, here\\'s an explanation of the joke:\\n\\nThe joke plays on the double meaning of \"bowling ball.\" In cricket, a \"bowling ball\" is what the bowler throws to try and knock the batsman out (get them out). However, a \"bowling ball\" is also a regular ball used in bowling games.\\n\\nThe cricket joke sets up the expectation that it\\'s referring to the cricket game, and the punchline is the surprising revelation that the cricket is blushing because it saw a *real* bowling ball. It\\'s a silly, visual joke! 😄 \\n\\n---\\n\\nWould you like to hear another cricket joke?', additional_kwargs={}, response_metadata={'model': 'gemma3:4b', 'created_at': '2025-08-12T19:59:51.0740229Z', 'done': True, 'done_reason': 'stop', 'total_duration': 51142195000, 'load_duration': 255268400, 'prompt_eval_count': 293, 'prompt_eval_duration': 23655505700, 'eval_count': 134, 'eval_duration': 27228252900, 'model_name': 'gemma3:4b'}, id='run--aa18ff89-036c-44db-9e8a-41cc9395f52a-0', usage_metadata={'input_tokens': 293, 'output_tokens': 134, 'total_tokens': 427})}),), interrupts=()),\n",
       " StateSnapshot(values={'topic': 'cricket', 'joke': AIMessage(content='Why did the spaghetti break up with the meatballs? \\n\\n... Because it said they were always rolling in their own sauce! 😂 🍝 \\n\\n---\\n\\nWould you like to hear another pasta joke?', additional_kwargs={}, response_metadata={'model': 'gemma3:4b', 'created_at': '2025-08-12T19:57:51.2303648Z', 'done': True, 'done_reason': 'stop', 'total_duration': 10526362700, 'load_duration': 255246900, 'prompt_eval_count': 20, 'prompt_eval_duration': 1259332900, 'eval_count': 42, 'eval_duration': 9010294400, 'model_name': 'gemma3:4b'}, id='run--da46a342-38a4-446f-8d8a-daedba136ab7-0', usage_metadata={'input_tokens': 20, 'output_tokens': 42, 'total_tokens': 62}), 'explanation': AIMessage(content='Okay, here\\'s an explanation of the joke:\\n\\nThe joke relies on a pun. \"Rolling in their own sauce\" has two meanings:\\n\\n1.  **Literal:** It refers to meatballs being covered in tomato sauce.\\n2.  **Figurative:** It means someone is overly involved or perhaps obsessively focused on something (in this case, the meatballs).\\n\\nThe joke plays on this double meaning, suggesting the spaghetti broke up with the meatballs because they were too consumed by their relationship. It’s a silly, lighthearted observation! \\n\\nWould you like to hear another pasta joke?', additional_kwargs={}, response_metadata={'model': 'gemma3:4b', 'created_at': '2025-08-12T19:58:44.2513471Z', 'done': True, 'done_reason': 'stop', 'total_duration': 53014773400, 'load_duration': 240031300, 'prompt_eval_count': 306, 'prompt_eval_duration': 25323506900, 'eval_count': 125, 'eval_duration': 27449564100, 'model_name': 'gemma3:4b'}, id='run--b64be9ea-2b85-49fe-b120-066f777cc905-0', usage_metadata={'input_tokens': 306, 'output_tokens': 125, 'total_tokens': 431})}, next=('generate_joke',), config={'configurable': {'thread_id': '2', 'checkpoint_ns': '', 'checkpoint_id': '1f077b6c-4fbd-6cf2-8004-8889bbe74695'}}, metadata={'source': 'loop', 'step': 4, 'parents': {}}, created_at='2025-08-12T19:58:52.107902+00:00', parent_config={'configurable': {'thread_id': '2', 'checkpoint_ns': '', 'checkpoint_id': '1f077b6c-4fb0-6e73-8003-9d02c815d6f7'}}, tasks=(PregelTask(id='4dc83789-0a47-9d7b-75fc-12adc646b31b', name='generate_joke', path=('__pregel_pull', 'generate_joke'), error=None, interrupts=(), state=None, result={'joke': AIMessage(content='Why did the cricket blush? \\n\\nBecause it saw the bowling ball! 😄 \\n\\n---\\n\\nWould you like to hear another cricket joke?', additional_kwargs={}, response_metadata={'model': 'gemma3:4b', 'created_at': '2025-08-12T19:58:59.924352Z', 'done': True, 'done_reason': 'stop', 'total_duration': 7805756700, 'load_duration': 411690400, 'prompt_eval_count': 20, 'prompt_eval_duration': 1313308800, 'eval_count': 30, 'eval_duration': 6079476100, 'model_name': 'gemma3:4b'}, id='run--cb5aaff4-92f2-4bb7-8e17-61778d68c052-0', usage_metadata={'input_tokens': 20, 'output_tokens': 30, 'total_tokens': 50})}),), interrupts=()),\n",
       " StateSnapshot(values={'topic': 'pasta', 'joke': AIMessage(content='Why did the spaghetti break up with the meatballs? \\n\\n... Because it said they were always rolling in their own sauce! 😂 🍝 \\n\\n---\\n\\nWould you like to hear another pasta joke?', additional_kwargs={}, response_metadata={'model': 'gemma3:4b', 'created_at': '2025-08-12T19:57:51.2303648Z', 'done': True, 'done_reason': 'stop', 'total_duration': 10526362700, 'load_duration': 255246900, 'prompt_eval_count': 20, 'prompt_eval_duration': 1259332900, 'eval_count': 42, 'eval_duration': 9010294400, 'model_name': 'gemma3:4b'}, id='run--da46a342-38a4-446f-8d8a-daedba136ab7-0', usage_metadata={'input_tokens': 20, 'output_tokens': 42, 'total_tokens': 62}), 'explanation': AIMessage(content='Okay, here\\'s an explanation of the joke:\\n\\nThe joke relies on a pun. \"Rolling in their own sauce\" has two meanings:\\n\\n1.  **Literal:** It refers to meatballs being covered in tomato sauce.\\n2.  **Figurative:** It means someone is overly involved or perhaps obsessively focused on something (in this case, the meatballs).\\n\\nThe joke plays on this double meaning, suggesting the spaghetti broke up with the meatballs because they were too consumed by their relationship. It’s a silly, lighthearted observation! \\n\\nWould you like to hear another pasta joke?', additional_kwargs={}, response_metadata={'model': 'gemma3:4b', 'created_at': '2025-08-12T19:58:44.2513471Z', 'done': True, 'done_reason': 'stop', 'total_duration': 53014773400, 'load_duration': 240031300, 'prompt_eval_count': 306, 'prompt_eval_duration': 25323506900, 'eval_count': 125, 'eval_duration': 27449564100, 'model_name': 'gemma3:4b'}, id='run--b64be9ea-2b85-49fe-b120-066f777cc905-0', usage_metadata={'input_tokens': 306, 'output_tokens': 125, 'total_tokens': 431})}, next=('__start__',), config={'configurable': {'thread_id': '2', 'checkpoint_ns': '', 'checkpoint_id': '1f077b6c-4fb0-6e73-8003-9d02c815d6f7'}}, metadata={'source': 'input', 'step': 3, 'parents': {}}, created_at='2025-08-12T19:58:52.102616+00:00', parent_config={'configurable': {'thread_id': '2', 'checkpoint_ns': '', 'checkpoint_id': '1f077b6c-04d6-69a6-8002-7841f6f19707'}}, tasks=(PregelTask(id='9ec182e9-dd68-c0a5-617e-b0eaf84570ef', name='__start__', path=('__pregel_pull', '__start__'), error=None, interrupts=(), state=None, result={'topic': 'cricket'}),), interrupts=()),\n",
       " StateSnapshot(values={'topic': 'pasta', 'joke': AIMessage(content='Why did the spaghetti break up with the meatballs? \\n\\n... Because it said they were always rolling in their own sauce! 😂 🍝 \\n\\n---\\n\\nWould you like to hear another pasta joke?', additional_kwargs={}, response_metadata={'model': 'gemma3:4b', 'created_at': '2025-08-12T19:57:51.2303648Z', 'done': True, 'done_reason': 'stop', 'total_duration': 10526362700, 'load_duration': 255246900, 'prompt_eval_count': 20, 'prompt_eval_duration': 1259332900, 'eval_count': 42, 'eval_duration': 9010294400, 'model_name': 'gemma3:4b'}, id='run--da46a342-38a4-446f-8d8a-daedba136ab7-0', usage_metadata={'input_tokens': 20, 'output_tokens': 42, 'total_tokens': 62}), 'explanation': AIMessage(content='Okay, here\\'s an explanation of the joke:\\n\\nThe joke relies on a pun. \"Rolling in their own sauce\" has two meanings:\\n\\n1.  **Literal:** It refers to meatballs being covered in tomato sauce.\\n2.  **Figurative:** It means someone is overly involved or perhaps obsessively focused on something (in this case, the meatballs).\\n\\nThe joke plays on this double meaning, suggesting the spaghetti broke up with the meatballs because they were too consumed by their relationship. It’s a silly, lighthearted observation! \\n\\nWould you like to hear another pasta joke?', additional_kwargs={}, response_metadata={'model': 'gemma3:4b', 'created_at': '2025-08-12T19:58:44.2513471Z', 'done': True, 'done_reason': 'stop', 'total_duration': 53014773400, 'load_duration': 240031300, 'prompt_eval_count': 306, 'prompt_eval_duration': 25323506900, 'eval_count': 125, 'eval_duration': 27449564100, 'model_name': 'gemma3:4b'}, id='run--b64be9ea-2b85-49fe-b120-066f777cc905-0', usage_metadata={'input_tokens': 306, 'output_tokens': 125, 'total_tokens': 431})}, next=(), config={'configurable': {'thread_id': '2', 'checkpoint_ns': '', 'checkpoint_id': '1f077b6c-04d6-69a6-8002-7841f6f19707'}}, metadata={'source': 'loop', 'step': 2, 'parents': {}}, created_at='2025-08-12T19:58:44.253738+00:00', parent_config={'configurable': {'thread_id': '2', 'checkpoint_ns': '', 'checkpoint_id': '1f077b6a-0b2d-6f32-8001-d25fad691fe0'}}, tasks=(), interrupts=()),\n",
       " StateSnapshot(values={'topic': 'pasta', 'joke': AIMessage(content='Why did the spaghetti break up with the meatballs? \\n\\n... Because it said they were always rolling in their own sauce! 😂 🍝 \\n\\n---\\n\\nWould you like to hear another pasta joke?', additional_kwargs={}, response_metadata={'model': 'gemma3:4b', 'created_at': '2025-08-12T19:57:51.2303648Z', 'done': True, 'done_reason': 'stop', 'total_duration': 10526362700, 'load_duration': 255246900, 'prompt_eval_count': 20, 'prompt_eval_duration': 1259332900, 'eval_count': 42, 'eval_duration': 9010294400, 'model_name': 'gemma3:4b'}, id='run--da46a342-38a4-446f-8d8a-daedba136ab7-0', usage_metadata={'input_tokens': 20, 'output_tokens': 42, 'total_tokens': 62})}, next=('generate_explanation',), config={'configurable': {'thread_id': '2', 'checkpoint_ns': '', 'checkpoint_id': '1f077b6a-0b2d-6f32-8001-d25fad691fe0'}}, metadata={'source': 'loop', 'step': 1, 'parents': {}}, created_at='2025-08-12T19:57:51.231569+00:00', parent_config={'configurable': {'thread_id': '2', 'checkpoint_ns': '', 'checkpoint_id': '1f077b69-a6b5-6286-8000-e983b6512851'}}, tasks=(PregelTask(id='73794ba3-73b4-595e-3647-7081da5292ff', name='generate_explanation', path=('__pregel_pull', 'generate_explanation'), error=None, interrupts=(), state=None, result={'explanation': AIMessage(content='Okay, here\\'s an explanation of the joke:\\n\\nThe joke relies on a pun. \"Rolling in their own sauce\" has two meanings:\\n\\n1.  **Literal:** It refers to meatballs being covered in tomato sauce.\\n2.  **Figurative:** It means someone is overly involved or perhaps obsessively focused on something (in this case, the meatballs).\\n\\nThe joke plays on this double meaning, suggesting the spaghetti broke up with the meatballs because they were too consumed by their relationship. It’s a silly, lighthearted observation! \\n\\nWould you like to hear another pasta joke?', additional_kwargs={}, response_metadata={'model': 'gemma3:4b', 'created_at': '2025-08-12T19:58:44.2513471Z', 'done': True, 'done_reason': 'stop', 'total_duration': 53014773400, 'load_duration': 240031300, 'prompt_eval_count': 306, 'prompt_eval_duration': 25323506900, 'eval_count': 125, 'eval_duration': 27449564100, 'model_name': 'gemma3:4b'}, id='run--b64be9ea-2b85-49fe-b120-066f777cc905-0', usage_metadata={'input_tokens': 306, 'output_tokens': 125, 'total_tokens': 431})}),), interrupts=()),\n",
       " StateSnapshot(values={'topic': 'pasta'}, next=('generate_joke',), config={'configurable': {'thread_id': '2', 'checkpoint_ns': '', 'checkpoint_id': '1f077b69-a6b5-6286-8000-e983b6512851'}}, metadata={'source': 'loop', 'step': 0, 'parents': {}}, created_at='2025-08-12T19:57:40.696333+00:00', parent_config={'configurable': {'thread_id': '2', 'checkpoint_ns': '', 'checkpoint_id': '1f077b69-a6b0-63e9-bfff-308e3f6f904c'}}, tasks=(PregelTask(id='59a4fdfe-f68e-dc31-e439-9208284eee36', name='generate_joke', path=('__pregel_pull', 'generate_joke'), error=None, interrupts=(), state=None, result={'joke': AIMessage(content='Why did the spaghetti break up with the meatballs? \\n\\n... Because it said they were always rolling in their own sauce! 😂 🍝 \\n\\n---\\n\\nWould you like to hear another pasta joke?', additional_kwargs={}, response_metadata={'model': 'gemma3:4b', 'created_at': '2025-08-12T19:57:51.2303648Z', 'done': True, 'done_reason': 'stop', 'total_duration': 10526362700, 'load_duration': 255246900, 'prompt_eval_count': 20, 'prompt_eval_duration': 1259332900, 'eval_count': 42, 'eval_duration': 9010294400, 'model_name': 'gemma3:4b'}, id='run--da46a342-38a4-446f-8d8a-daedba136ab7-0', usage_metadata={'input_tokens': 20, 'output_tokens': 42, 'total_tokens': 62})}),), interrupts=()),\n",
       " StateSnapshot(values={}, next=('__start__',), config={'configurable': {'thread_id': '2', 'checkpoint_ns': '', 'checkpoint_id': '1f077b69-a6b0-63e9-bfff-308e3f6f904c'}}, metadata={'source': 'input', 'step': -1, 'parents': {}}, created_at='2025-08-12T19:57:40.694320+00:00', parent_config=None, tasks=(PregelTask(id='adeec7ab-bd64-d059-5842-4f70ec56c2f7', name='__start__', path=('__pregel_pull', '__start__'), error=None, interrupts=(), state=None, result={'topic': 'pasta'}),), interrupts=())]"
      ]
     },
     "execution_count": 38,
     "metadata": {},
     "output_type": "execute_result"
    }
   ],
   "source": [
    "list(workflow.get_state_history(config2))"
   ]
  },
  {
   "cell_type": "code",
   "execution_count": null,
   "id": "6dbbaf2b",
   "metadata": {},
   "outputs": [],
   "source": []
  }
 ],
 "metadata": {
  "kernelspec": {
   "display_name": "Python 3",
   "language": "python",
   "name": "python3"
  },
  "language_info": {
   "codemirror_mode": {
    "name": "ipython",
    "version": 3
   },
   "file_extension": ".py",
   "mimetype": "text/x-python",
   "name": "python",
   "nbconvert_exporter": "python",
   "pygments_lexer": "ipython3",
   "version": "3.10.11"
  }
 },
 "nbformat": 4,
 "nbformat_minor": 5
}
