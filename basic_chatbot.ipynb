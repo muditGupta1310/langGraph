{
 "cells": [
  {
   "cell_type": "code",
   "execution_count": 23,
   "id": "f2b590e6",
   "metadata": {},
   "outputs": [],
   "source": [
    "from langgraph.graph import StateGraph, START ,END\n",
    "from typing import TypedDict, Annotated\n",
    "from langchain_core.messages import BaseMessage,HumanMessage\n",
    "from langchain_ollama import ChatOllama\n",
    "from langgraph.checkpoint.memory import MemorySaver\n"
   ]
  },
  {
   "cell_type": "code",
   "execution_count": 24,
   "id": "51e33c65",
   "metadata": {},
   "outputs": [],
   "source": [
    "from langgraph.graph.message import add_messages\n",
    "\n",
    "class ChatState(TypedDict):   \n",
    "    messages : Annotated[list[BaseMessage], add_messages]"
   ]
  },
  {
   "cell_type": "code",
   "execution_count": 25,
   "id": "f92bd74f",
   "metadata": {},
   "outputs": [],
   "source": [
    "model =  ChatOllama(model=\"gemma3:4b\")"
   ]
  },
  {
   "cell_type": "code",
   "execution_count": 26,
   "id": "3a976d23",
   "metadata": {},
   "outputs": [],
   "source": [
    "def chat_node(state:ChatState):\n",
    "    messages = state['messages']\n",
    "\n",
    "    response = model.invoke(messages)\n",
    "\n",
    "    return {'messages': [response]}\n"
   ]
  },
  {
   "cell_type": "code",
   "execution_count": 27,
   "id": "47221702",
   "metadata": {},
   "outputs": [],
   "source": [
    "checkpointer = MemorySaver()\n",
    "graph = StateGraph(ChatState)\n",
    "\n",
    "graph.add_node('chat_node',chat_node)\n",
    "\n",
    "graph.add_edge(START,'chat_node')\n",
    "graph.add_edge('chat_node',END)\n",
    "\n",
    "chatbot = graph.compile(checkpointer = checkpointer)"
   ]
  },
  {
   "cell_type": "code",
   "execution_count": 28,
   "id": "4d840cf9",
   "metadata": {},
   "outputs": [
    {
     "data": {
      "image/png": "[encoded data removed]",
      "text/plain": [
       "<langgraph.graph.state.CompiledStateGraph object at 0x0000028DCA5A15A0>"
      ]
     },
     "execution_count": 28,
     "metadata": {},
     "output_type": "execute_result"
    }
   ],
   "source": [
    "chatbot"
   ]
  },
  {
   "cell_type": "code",
   "execution_count": 32,
   "id": "a3e5193a",
   "metadata": {},
   "outputs": [
    {
     "name": "stdout",
     "output_type": "stream",
     "text": [
      "User:  hii my name is mudit\n",
      "AI:  Hi Mudit! It's nice to meet you. 😊 \n",
      "\n",
      "How are you doing today? Is there anything you'd like to chat about, or were you just saying hello?\n",
      "User:  Can you tell me my name\n",
      "AI:  Your name is Mudit! 😊 \n",
      "\n",
      "I just wanted to confirm that I understood correctly. \n",
      "\n",
      "Is that right?\n",
      "User:  yes you are right\n",
      "AI:  Great! Glad we got that sorted out. 😊 \n",
      "\n",
      "What’s on your mind, Mudit?\n",
      "User:  can you provide me roadmap of Mlops\n",
      "AI:  Okay, let’s create a roadmap for MLOps – it’s a constantly evolving field, so this is a high-level overview. We’ll break it down into stages and key areas.\n",
      "\n",
      "**Phase 1: Foundations - Getting Started (1-3 Months)**\n",
      "\n",
      "* **Understanding the Basics:**\n",
      "    * **What is MLOps?** (DevOps for Machine Learning) – Focus on automation, collaboration, and reliability in the ML lifecycle.\n",
      "    * **Key Concepts:** Model Training, Model Deployment, Model Monitoring, Data Versioning, Experiment Tracking.\n",
      "    * **Popular Tools:**  Version control (Git), Experiment Tracking (MLflow, Weights & Biases), Containerization (Docker), Orchestration (Kubernetes).\n",
      "* **Small-Scale Projects:** Start with a simple ML project – maybe a classification or regression model – and apply basic MLOps practices.\n",
      "* **Version Control:** Learn to use Git for tracking code changes.\n",
      "* **Experiment Tracking:**  Start using a tool like MLflow to log parameters, metrics, and artifacts from your experiments.\n",
      "\n",
      "\n",
      "**Phase 2: Building Core MLOps Processes (3-6 Months)**\n",
      "\n",
      "* **Data Versioning:** Implement data versioning using tools like DVC (Data Version Control) or Pachyderm to track changes to your datasets.\n",
      "* **CI/CD for ML:**  Set up a Continuous Integration and Continuous Delivery (CI/CD) pipeline for your models. This involves automating testing, building, and deploying models.\n",
      "* **Containerization & Orchestration:**  Become proficient with Docker and Kubernetes for deploying and managing your models.\n",
      "* **Model Serving:** Learn how to serve your models using tools like TensorFlow Serving, TorchServe, or cloud provider services (AWS SageMaker, Google AI Platform, Azure Machine Learning).\n",
      "* **Basic Monitoring:**  Start monitoring model performance (accuracy, latency) in production.\n",
      "\n",
      "\n",
      "\n",
      "**Phase 3: Scaling & Automation (6+ Months)**\n",
      "\n",
      "* **Advanced Monitoring & Alerting:** Implement robust monitoring with automatic alerts for performance degradation, data drift, or other issues.\n",
      "* **Data Drift Detection:**  Set up mechanisms to detect and address data drift – changes in the input data that can affect model performance.\n",
      "* **Automated Retraining:**  Automate the process of retraining models periodically or when data drift is detected.\n",
      "* **Feature Stores:**  Explore using a feature store to manage and serve features consistently across training and production.\n",
      "* **Infrastructure as Code (IaC):** Use tools like Terraform or CloudFormation to automate the provisioning and management of your MLOps infrastructure.\n",
      "* **Shadow Deployment:**  Implement shadow deployment – running a new model alongside the existing one to test it in production without impacting users.\n",
      "* **Model Governance:**  Establish processes for model approvals, versioning, and auditing.\n",
      "\n",
      "\n",
      "**Key Tools & Technologies to Consider:**\n",
      "\n",
      "* **Version Control:** Git, GitHub, GitLab\n",
      "* **Experiment Tracking:** MLflow, Weights & Biases, Comet.ml\n",
      "* **Containerization:** Docker\n",
      "* **Orchestration:** Kubernetes, Docker Compose\n",
      "* **Cloud Platforms:** AWS, Google Cloud, Azure – Each offers specific MLOps services.\n",
      "* **Feature Stores:** Feast, Tecton\n",
      "* **Infrastructure as Code:** Terraform, CloudFormation\n",
      "\n",
      "**Important Notes:**\n",
      "\n",
      "* **Start Small:** Don’t try to implement everything at once. Focus on the most critical aspects of your projects.\n",
      "* **Team Collaboration:** MLOps requires close collaboration between data scientists, ML engineers, and DevOps engineers.\n",
      "* **Continuous Learning:** The field of MLOps is constantly evolving, so stay up-to-date on the latest tools and best practices.\n",
      "\n",
      "---\n",
      "\n",
      "To help me tailor this roadmap even further, could you tell me:\n",
      "\n",
      "*   **What's your current experience level with ML and DevOps?** (e.g., Beginner, Intermediate, Experienced)\n",
      "*   **What types of ML projects are you interested in working on?** (e.g., Image recognition, NLP, time series analysis)\n",
      "User:  exit\n"
     ]
    }
   ],
   "source": [
    "thread_id = '1'\n",
    "while True:\n",
    "    user_message = input(\"Type here\")\n",
    "\n",
    "    print('User: ', user_message)\n",
    "\n",
    "    if user_message.strip().lower() in ['exit', 'quit', 'bye']:\n",
    "        break\n",
    "    config = {'configurable':{'thread_id':thread_id}}\n",
    "    response = chatbot.invoke({'messages':[HumanMessage(content=user_message)]}, config = config)\n",
    "\n",
    "    print('AI: ', response['messages'][-1].content)"
   ]
  },
  {
   "cell_type": "code",
   "execution_count": 33,
   "id": "362cc468",
   "metadata": {},
   "outputs": [
    {
     "data": {
      "text/plain": [
       "StateSnapshot(values={'messages': [HumanMessage(content='hii my name is mudit', additional_kwargs={}, response_metadata={}, id='2b18dc94-f830-4c82-9dda-44e4ed8ce1a6'), AIMessage(content=\"Hi Mudit! It's nice to meet you. 😊 \\n\\nHow are you doing today? Is there anything you'd like to chat about, or were you just saying hello?\", additional_kwargs={}, response_metadata={'model': 'gemma3:4b', 'created_at': '2025-08-12T17:25:48.4622705Z', 'done': True, 'done_reason': 'stop', 'total_duration': 30268747900, 'load_duration': 19390144900, 'prompt_eval_count': 15, 'prompt_eval_duration': 1090918600, 'eval_count': 40, 'eval_duration': 9739691900, 'model_name': 'gemma3:4b'}, id='run--f4c96926-d3b5-484b-b636-47b63ea9f9b2-0', usage_metadata={'input_tokens': 15, 'output_tokens': 40, 'total_tokens': 55}), HumanMessage(content='Can you tell me my name', additional_kwargs={}, response_metadata={}, id='224f9209-fccd-47a3-b245-a93a83550d57'), AIMessage(content='Your name is Mudit! 😊 \\n\\nI just wanted to confirm that I understood correctly. \\n\\nIs that right?', additional_kwargs={}, response_metadata={'model': 'gemma3:4b', 'created_at': '2025-08-12T17:26:07.6671528Z', 'done': True, 'done_reason': 'stop', 'total_duration': 7317087700, 'load_duration': 276395900, 'prompt_eval_count': 70, 'prompt_eval_duration': 1048903100, 'eval_count': 26, 'eval_duration': 5903808400, 'model_name': 'gemma3:4b'}, id='run--ce5c6c8a-d526-43e3-9c42-6f0fe49cab1a-0', usage_metadata={'input_tokens': 70, 'output_tokens': 26, 'total_tokens': 96}), HumanMessage(content='yes you are right', additional_kwargs={}, response_metadata={}, id='dc7a1560-d3f8-4bad-b486-11263ad37fff'), AIMessage(content='Great! Glad we got that sorted out. 😊 \\n\\nWhat’s on your mind, Mudit?', additional_kwargs={}, response_metadata={'model': 'gemma3:4b', 'created_at': '2025-08-12T17:26:28.1097652Z', 'done': True, 'done_reason': 'stop', 'total_duration': 7641989600, 'load_duration': 178206800, 'prompt_eval_count': 109, 'prompt_eval_duration': 1261015800, 'eval_count': 23, 'eval_duration': 6196612100, 'model_name': 'gemma3:4b'}, id='run--4f015ba2-c031-4303-afef-82c88df3d542-0', usage_metadata={'input_tokens': 109, 'output_tokens': 23, 'total_tokens': 132}), HumanMessage(content='can you provide me roadmap of Mlops', additional_kwargs={}, response_metadata={}, id='96548cff-22c9-48f2-980b-c125ef705178'), AIMessage(content=\"Okay, let’s create a roadmap for MLOps – it’s a constantly evolving field, so this is a high-level overview. We’ll break it down into stages and key areas.\\n\\n**Phase 1: Foundations - Getting Started (1-3 Months)**\\n\\n* **Understanding the Basics:**\\n    * **What is MLOps?** (DevOps for Machine Learning) – Focus on automation, collaboration, and reliability in the ML lifecycle.\\n    * **Key Concepts:** Model Training, Model Deployment, Model Monitoring, Data Versioning, Experiment Tracking.\\n    * **Popular Tools:**  Version control (Git), Experiment Tracking (MLflow, Weights & Biases), Containerization (Docker), Orchestration (Kubernetes).\\n* **Small-Scale Projects:** Start with a simple ML project – maybe a classification or regression model – and apply basic MLOps practices.\\n* **Version Control:** Learn to use Git for tracking code changes.\\n* **Experiment Tracking:**  Start using a tool like MLflow to log parameters, metrics, and artifacts from your experiments.\\n\\n\\n**Phase 2: Building Core MLOps Processes (3-6 Months)**\\n\\n* **Data Versioning:** Implement data versioning using tools like DVC (Data Version Control) or Pachyderm to track changes to your datasets.\\n* **CI/CD for ML:**  Set up a Continuous Integration and Continuous Delivery (CI/CD) pipeline for your models. This involves automating testing, building, and deploying models.\\n* **Containerization & Orchestration:**  Become proficient with Docker and Kubernetes for deploying and managing your models.\\n* **Model Serving:** Learn how to serve your models using tools like TensorFlow Serving, TorchServe, or cloud provider services (AWS SageMaker, Google AI Platform, Azure Machine Learning).\\n* **Basic Monitoring:**  Start monitoring model performance (accuracy, latency) in production.\\n\\n\\n\\n**Phase 3: Scaling & Automation (6+ Months)**\\n\\n* **Advanced Monitoring & Alerting:** Implement robust monitoring with automatic alerts for performance degradation, data drift, or other issues.\\n* **Data Drift Detection:**  Set up mechanisms to detect and address data drift – changes in the input data that can affect model performance.\\n* **Automated Retraining:**  Automate the process of retraining models periodically or when data drift is detected.\\n* **Feature Stores:**  Explore using a feature store to manage and serve features consistently across training and production.\\n* **Infrastructure as Code (IaC):** Use tools like Terraform or CloudFormation to automate the provisioning and management of your MLOps infrastructure.\\n* **Shadow Deployment:**  Implement shadow deployment – running a new model alongside the existing one to test it in production without impacting users.\\n* **Model Governance:**  Establish processes for model approvals, versioning, and auditing.\\n\\n\\n**Key Tools & Technologies to Consider:**\\n\\n* **Version Control:** Git, GitHub, GitLab\\n* **Experiment Tracking:** MLflow, Weights & Biases, Comet.ml\\n* **Containerization:** Docker\\n* **Orchestration:** Kubernetes, Docker Compose\\n* **Cloud Platforms:** AWS, Google Cloud, Azure – Each offers specific MLOps services.\\n* **Feature Stores:** Feast, Tecton\\n* **Infrastructure as Code:** Terraform, CloudFormation\\n\\n**Important Notes:**\\n\\n* **Start Small:** Don’t try to implement everything at once. Focus on the most critical aspects of your projects.\\n* **Team Collaboration:** MLOps requires close collaboration between data scientists, ML engineers, and DevOps engineers.\\n* **Continuous Learning:** The field of MLOps is constantly evolving, so stay up-to-date on the latest tools and best practices.\\n\\n---\\n\\nTo help me tailor this roadmap even further, could you tell me:\\n\\n*   **What's your current experience level with ML and DevOps?** (e.g., Beginner, Intermediate, Experienced)\\n*   **What types of ML projects are you interested in working on?** (e.g., Image recognition, NLP, time series analysis)\", additional_kwargs={}, response_metadata={'model': 'gemma3:4b', 'created_at': '2025-08-12T17:30:16.5516372Z', 'done': True, 'done_reason': 'stop', 'total_duration': 213144820800, 'load_duration': 746184900, 'prompt_eval_count': 149, 'prompt_eval_duration': 1283422400, 'eval_count': 849, 'eval_duration': 210656674900, 'model_name': 'gemma3:4b'}, id='run--5a2b0b84-6de1-4f8f-9916-fef99b4cd18e-0', usage_metadata={'input_tokens': 149, 'output_tokens': 849, 'total_tokens': 998})]}, next=(), config={'configurable': {'thread_id': '1', 'checkpoint_ns': '', 'checkpoint_id': '1f077a20-2e98-6727-800a-90888ce4f1cc'}}, metadata={'source': 'loop', 'step': 10, 'parents': {}}, created_at='2025-08-12T17:30:16.574158+00:00', parent_config={'configurable': {'thread_id': '1', 'checkpoint_ns': '', 'checkpoint_id': '1f077a18-3961-6f03-8009-5212397bf1bf'}}, tasks=(), interrupts=())"
      ]
     },
     "execution_count": 33,
     "metadata": {},
     "output_type": "execute_result"
    }
   ],
   "source": [
    "chatbot.get_state(config=config)"
   ]
  }
 ],
 "metadata": {
  "kernelspec": {
   "display_name": "Python 3",
   "language": "python",
   "name": "python3"
  },
  "language_info": {
   "codemirror_mode": {
    "name": "ipython",
    "version": 3
   },
   "file_extension": ".py",
   "mimetype": "text/x-python",
   "name": "python",
   "nbconvert_exporter": "python",
   "pygments_lexer": "ipython3",
   "version": "3.10.11"
  }
 },
 "nbformat": 4,
 "nbformat_minor": 5
}
