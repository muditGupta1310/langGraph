{
 "cells": [
  {
   "cell_type": "code",
   "execution_count": 23,
   "id": "c6b0b315",
   "metadata": {},
   "outputs": [],
   "source": [
    "from langgraph.graph import StateGraph, START, END\n",
    "from typing import TypedDict\n"
   ]
  },
  {
   "cell_type": "code",
   "execution_count": 24,
   "id": "e2f466be",
   "metadata": {},
   "outputs": [],
   "source": [
    "class BatsmanState(TypedDict):\n",
    "    runs: int\n",
    "    balls:int\n",
    "    fours:int\n",
    "    sixes:int\n",
    "\n",
    "    sr:float\n",
    "    bpb:float\n",
    "    boundary_percent: float\n",
    "    summary : str"
   ]
  },
  {
   "cell_type": "code",
   "execution_count": 37,
   "id": "1c9a409b",
   "metadata": {},
   "outputs": [],
   "source": [
    "def calculate_sr(state : BatsmanState) -> BatsmanState:\n",
    "    runs = state['runs']\n",
    "    balls = state['balls']\n",
    "\n",
    "    sr = (runs/balls)*100\n",
    "\n",
    "    return {'sr':sr}"
   ]
  },
  {
   "cell_type": "code",
   "execution_count": 38,
   "id": "91f3e276",
   "metadata": {},
   "outputs": [],
   "source": [
    "def calculate_bpb(state : BatsmanState) -> BatsmanState:\n",
    "    fours = state['fours']\n",
    "    sixes = state['sixes']\n",
    "    boundary = fours + sixes \n",
    "    balls = state['balls']\n",
    "\n",
    "    bpb = (balls/boundary)\n",
    "\n",
    "    return {'bpb':bpb}"
   ]
  },
  {
   "cell_type": "code",
   "execution_count": 39,
   "id": "72c456de",
   "metadata": {},
   "outputs": [],
   "source": [
    "def calculate_boundary_percent(state : BatsmanState) -> BatsmanState:\n",
    "    fours = state['fours']\n",
    "    sixes = state['sixes']\n",
    "    runs_via_boundaries = fours*4 + sixes*6\n",
    "    runs = state['runs']\n",
    "    boundary_percent = (runs_via_boundaries/runs)*100\n",
    "    return {'boundary_percent':boundary_percent}"
   ]
  },
  {
   "cell_type": "code",
   "execution_count": 40,
   "id": "2a99474d",
   "metadata": {},
   "outputs": [],
   "source": [
    "def summary(state:BatsmanState) -> BatsmanState:\n",
    "    summary = f\"\"\"\n",
    "Strike Rate = {state['sr']} \\n\n",
    "Balls = {state['balls']} \\n\n",
    "Runs = {state['runs']} \\n\n",
    "Fours = {state['fours']} \\n\n",
    "Sixes = {state['sixes']} \\n\n",
    "Boundary Percent = {state['boundary_percent']} \\n\n",
    "Balls per Boundary = {state['bpb']} \\n\n",
    "\"\"\"\n",
    "    \n",
    "    return {'summary':summary}"
   ]
  },
  {
   "cell_type": "code",
   "execution_count": 42,
   "id": "78a5edf9",
   "metadata": {},
   "outputs": [],
   "source": [
    "graph = StateGraph(BatsmanState)\n",
    "\n",
    "graph.add_node('calculate_sr', calculate_sr)\n",
    "graph.add_node('calculate_bpb', calculate_bpb)\n",
    "graph.add_node('calculate_boundary_percent', calculate_boundary_percent)\n",
    "graph.add_node('summary', summary)\n",
    "\n",
    "# edges\n",
    "graph.add_edge(START, 'calculate_sr')\n",
    "graph.add_edge(START, 'calculate_bpb')\n",
    "graph.add_edge(START, 'calculate_boundary_percent')\n",
    "\n",
    "graph.add_edge('calculate_sr', 'summary')\n",
    "graph.add_edge('calculate_bpb','summary')\n",
    "graph.add_edge('calculate_boundary_percent','summary')\n",
    "\n",
    "graph.add_edge('summary',END)\n",
    "\n",
    "workflow = graph.compile()"
   ]
  },
  {
   "cell_type": "code",
   "execution_count": 43,
   "id": "ba365278",
   "metadata": {},
   "outputs": [],
   "source": [
    "initial_state = {'runs':100,\n",
    "                 'balls': 50,\n",
    "                 'fours':8, \n",
    "                 'sixes':7}\n",
    " \n",
    "final_state = workflow.invoke(initial_state)"
   ]
  },
  {
   "cell_type": "code",
   "execution_count": 48,
   "id": "33cc99d5",
   "metadata": {},
   "outputs": [
    {
     "data": {
      "text/plain": [
       "{'runs': 100,\n",
       " 'balls': 50,\n",
       " 'fours': 8,\n",
       " 'sixes': 7,\n",
       " 'sr': 200.0,\n",
       " 'bpb': 3.3333333333333335,\n",
       " 'boundary_percent': 74.0,\n",
       " 'summary': '\\nStrike Rate = 200.0 \\n\\nBalls = 50 \\n\\nRuns = 100 \\n\\nFours = 8 \\n\\nSixes = 7 \\n\\nBoundary Percent = 74.0 \\n\\nBalls per Boundary = 3.3333333333333335 \\n\\n'}"
      ]
     },
     "execution_count": 48,
     "metadata": {},
     "output_type": "execute_result"
    }
   ],
   "source": [
    "final_state"
   ]
  },
  {
   "cell_type": "code",
   "execution_count": null,
   "id": "051b134b",
   "metadata": {},
   "outputs": [],
   "source": []
  }
 ],
 "metadata": {
  "kernelspec": {
   "display_name": "venv",
   "language": "python",
   "name": "python3"
  },
  "language_info": {
   "codemirror_mode": {
    "name": "ipython",
    "version": 3
   },
   "file_extension": ".py",
   "mimetype": "text/x-python",
   "name": "python",
   "nbconvert_exporter": "python",
   "pygments_lexer": "ipython3",
   "version": "3.10.11"
  }
 },
 "nbformat": 4,
 "nbformat_minor": 5
}
