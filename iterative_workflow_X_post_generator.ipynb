{
 "cells": [
  {
   "cell_type": "code",
   "execution_count": null,
   "id": "4b2fca62",
   "metadata": {},
   "outputs": [],
   "source": [
    "from langgraph.graph import StateGraph, START, END\n",
    "from typing import TypedDict, Literal, Annotated\n",
    "from pydantic import BaseModel, Field\n",
    "from langchain_ollama import ChatOllama\n",
    "from langchain_core.messages import SystemMessage, HumanMessage\n",
    "import operator"
   ]
  },
  {
   "cell_type": "code",
   "execution_count": null,
   "id": "23d1e6df",
   "metadata": {},
   "outputs": [],
   "source": [
    "generator_llm = ChatOllama(model=\"mistral:7b\")\n",
    "\n",
    "evaluation_llm = ChatOllama(model='mistral:7b')\n",
    "\n",
    "optimizer_llm = ChatOllama(model='mistral:7b')\n"
   ]
  },
  {
   "cell_type": "code",
   "execution_count": null,
   "id": "b15e2efc",
   "metadata": {},
   "outputs": [],
   "source": [
    "# state\n",
    "class TweetState(TypedDict):\n",
    "    topic : str\n",
    "    tweet : str\n",
    "    evaluation : Literal['approved', 'needs_improvement']\n",
    "    feedback : str\n",
    "    iteration : int\n",
    "    max_iteration : int\n",
    "    tweet_history: Annotated[list[str] , operator.add]\n",
    "    feedback_history : Annotated[list[str] , operator.add]"
   ]
  },
  {
   "cell_type": "code",
   "execution_count": null,
   "id": "5b436afe",
   "metadata": {},
   "outputs": [],
   "source": [
    "def generate_tweet(state:TweetState):\n",
    "    # prompt\n",
    "    messages = [\n",
    "        SystemMessage(content=\"You are a funny and clever Twitter/X influencer.\"),\n",
    "        HumanMessage(content=f\"\"\"\n",
    "You must return ONLY the tweet content, nothing else. \n",
    "DO NOT include thinking process, explanations, reasoning steps, hashtags (unless humorously part of the tweet), or any text outside the tweet itself.\n",
    "\n",
    "TASK:\n",
    "Write a short, original, and hilarious tweet on the topic: \"{state['topic']}\".\n",
    "\n",
    "RULES:\n",
    "- Max 280 characters.\n",
    "- No question-answer style.\n",
    "- Use observational humor, irony, sarcasm, or cultural references.\n",
    "- Use meme logic, punchlines, or relatable takes.\n",
    "- Use simple, everyday English.\n",
    "- Be direct and provide only the tweet content.\n",
    "\n",
    "OUTPUT FORMAT:\n",
    "{{\"tweet\": \"<your tweet here>\"}}\n",
    "\n",
    "IMPORTANT: Your entire reply must be valid JSON exactly in this format, with only one key \"tweet\".\n",
    "\"\"\")\n",
    "    ]\n",
    "    # send to generator_llm\n",
    "\n",
    "    response = generator_llm.invoke(messages)\n",
    "\n",
    "    # return response\n",
    "    return {'tweet':response.content,'tweet_history':[response]}"
   ]
  },
  {
   "cell_type": "code",
   "execution_count": null,
   "id": "5d264bdd",
   "metadata": {},
   "outputs": [],
   "source": [
    "class Evaluation_Schema(BaseModel):\n",
    "    evaluation : Literal['needs_improvement','approved'] = Field(description='Final evaluation of the tweet')\n",
    "    feedback : str = Field(..., description='Feedback for the tweet.')"
   ]
  },
  {
   "cell_type": "code",
   "execution_count": null,
   "id": "58f0144d",
   "metadata": {},
   "outputs": [],
   "source": [
    "structured_evaluator_llm = evaluation_llm.with_structured_output(Evaluation_Schema)"
   ]
  },
  {
   "cell_type": "code",
   "execution_count": null,
   "id": "aa2b6619",
   "metadata": {},
   "outputs": [],
   "source": [
    "def evaluate_tweet(state:TweetState):\n",
    "    # Evaluate the tweet based on the state\n",
    "    messages = [\n",
    "    SystemMessage(content=\"You are a ruthless, no-laugh-given Twitter critic. You evaluate tweets based on humor, originality, virality, and tweet format.\"),\n",
    "    HumanMessage(content=f\"\"\"\n",
    "        Evaluate the following tweet:\n",
    "\n",
    "        Tweet: \"{state['tweet']}\"\n",
    "\n",
    "        Use the criteria below to evaluate the tweet:\n",
    "\n",
    "        1. Originality – Is this fresh, or have you seen it a hundred times before?  \n",
    "        2. Humor – Did it genuinely make you smile, laugh, or chuckle?  \n",
    "        3. Punchiness – Is it short, sharp, and scroll-stopping?  \n",
    "        4. Virality Potential – Would people retweet or share it?  \n",
    "        5. Format – Is it a well-formed tweet (not a setup-punchline joke, not a Q&A joke, and under 280 characters)?\n",
    "\n",
    "        Auto-reject if:\n",
    "        - It's written in question-answer format (e.g., \"Why did...\" or \"What happens when...\")\n",
    "        - It exceeds 280 characters\n",
    "        - It reads like a traditional setup-punchline joke\n",
    "        - Dont end with generic, throwaway, or deflating lines that weaken the humor (e.g., “Masterpieces of the auntie-uncle universe” or vague summaries)\n",
    "\n",
    "        ### Respond ONLY in structured format:\n",
    "        - evaluation: \"approved\" or \"needs_improvement\"  \n",
    "        - feedback: One paragraph explaining the strengths and weaknesses \n",
    "        \"\"\")\n",
    "        ]\n",
    "\n",
    "    response = structured_evaluator_llm.invoke(messages)\n",
    "\n",
    "    return {'evaluation':response.evaluation, 'feedback':response.feedback,'feedback_history':[response.feedback]}"
   ]
  },
  {
   "cell_type": "code",
   "execution_count": null,
   "id": "aa821fea",
   "metadata": {},
   "outputs": [],
   "source": [
    "def optimize_tweet(state:TweetState):\n",
    "    messages = [\n",
    "        SystemMessage(content=\"You are a witty Twitter/X influencer who makes tweets go viral.\"),\n",
    "        HumanMessage(content=f\"\"\"\n",
    "You must return ONLY the optimized tweet content, nothing else. \n",
    "DO NOT include thinking process, explanations, reasoning steps, hashtags (unless humorously part of the tweet), or any text outside the tweet itself.\n",
    "\n",
    "TASK:\n",
    "Improve the tweet based on the feedback below.\n",
    "\n",
    "FEEDBACK:\n",
    "\"{state['feedback']}\"\n",
    "\n",
    "TOPIC:\n",
    "\"{state['topic']}\"\n",
    "\n",
    "ORIGINAL TWEET:\n",
    "{state['tweet']}\n",
    "\n",
    "RULES:\n",
    "- Max 280 characters.\n",
    "- No question-answer style.\n",
    "- Keep it punchy, funny, and viral-worthy.\n",
    "- Use observational humor, irony, sarcasm, or cultural references.\n",
    "- Use simple, everyday English.\n",
    "- Be direct and provide only the tweet content.\n",
    "\n",
    "OUTPUT FORMAT:\n",
    "{{\"tweet\": \"<your tweet here>\"}}\n",
    "\n",
    "IMPORTANT: Your entire reply must be valid JSON exactly in this format, with only one key \"tweet\".\n",
    "\"\"\")\n",
    "    ]\n",
    "    response = optimizer_llm.invoke(messages)\n",
    "\n",
    "    iteration = state['iteration'] + 1\n",
    "\n",
    "    return {'tweet':response.content, 'iteration':iteration, 'tweet_history':[response]}"
   ]
  },
  {
   "cell_type": "code",
   "execution_count": null,
   "id": "f8c21bc5",
   "metadata": {},
   "outputs": [],
   "source": [
    "def route_evaluation(state:TweetState):\n",
    "    if state['evaluation'] == 'approved'or state['iteration'] >= state['max_iteration']:\n",
    "        return 'approved'\n",
    "    else :\n",
    "        return 'needs_improvement'"
   ]
  },
  {
   "cell_type": "code",
   "execution_count": null,
   "id": "ed617ff5",
   "metadata": {},
   "outputs": [],
   "source": [
    "graph = StateGraph(TweetState)\n",
    "\n",
    "graph.add_node('generate',generate_tweet)\n",
    "graph.add_node('evaluate',evaluate_tweet)\n",
    "graph.add_node('optimize',optimize_tweet)\n",
    "\n",
    "graph.add_edge(START, 'generate')\n",
    "graph.add_edge('generate', 'evaluate')\n",
    "graph.add_conditional_edges('evaluate',route_evaluation, {'approved':END, 'needs_improvement':'optimize'})\n",
    "graph.add_edge('optimize', 'evaluate')\n",
    "\n",
    "workflow =graph.compile()\n",
    "\n"
   ]
  },
  {
   "cell_type": "code",
   "execution_count": null,
   "id": "875f4a9e",
   "metadata": {},
   "outputs": [
    {
     "data": {
      "image/png": "[encoded data removed]",
      "text/plain": [
       "<langgraph.graph.state.CompiledStateGraph object at 0x0000013C7CB5EEF0>"
      ]
     },
     "execution_count": 177,
     "metadata": {},
     "output_type": "execute_result"
    }
   ],
   "source": [
    "workflow"
   ]
  },
  {
   "cell_type": "code",
   "execution_count": null,
   "id": "af4901d2",
   "metadata": {},
   "outputs": [],
   "source": [
    "initial_state = {\n",
    "    'topic' : \"edgbeg\",\n",
    "    'iteration' : 1,\n",
    "    'max_iteration':5\n",
    "}\n",
    "\n",
    "final_state = workflow.invoke(initial_state)"
   ]
  },
  {
   "cell_type": "code",
   "execution_count": null,
   "id": "c96f4923",
   "metadata": {},
   "outputs": [
    {
     "data": {
      "text/plain": [
       "' {\"tweet\": \"edgbeg? More like \\'readgbe\\' - it\\'s a whole new level of enlightenment. #BackwardsWisdom\"}'"
      ]
     },
     "execution_count": 173,
     "metadata": {},
     "output_type": "execute_result"
    }
   ],
   "source": [
    "final_state['tweet']"
   ]
  },
  {
   "cell_type": "code",
   "execution_count": null,
   "id": "040e4f3e",
   "metadata": {},
   "outputs": [
    {
     "data": {
      "text/plain": [
       "{'topic': 'edgbeg',\n",
       " 'tweet': ' {\"tweet\": \"edgbeg? More like \\'readgbe\\' - it\\'s a whole new level of enlightenment. #BackwardsWisdom\"}',\n",
       " 'evaluation': 'approved',\n",
       " 'feedback': \"This tweet is approved due to its originality in reversing the phrase 'enlightenment' as 'edgbeg', which stands out from common tweets. The humor lies in the play on words and the subtle twist of the phrase, which can elicit a chuckle or smile from readers. The tweet is short, sharp, and scroll-stopping, fitting well within the 280 character limit. It also doesn't adhere to traditional setup-punchline joke format or end with generic or deflating lines. However, it might not have high virality potential, as the humor may be appreciated more among those who enjoy wordplay and puns.\",\n",
       " 'iteration': 1,\n",
       " 'max_iteration': 5,\n",
       " 'tweet_history': [AIMessage(content=' {\"tweet\": \"edgbeg? More like \\'readgbe\\' - it\\'s a whole new level of enlightenment. #BackwardsWisdom\"}', additional_kwargs={}, response_metadata={'model': 'mistral:7b', 'created_at': '2025-08-12T10:16:02.8427576Z', 'done': True, 'done_reason': 'stop', 'total_duration': 95438606600, 'load_duration': 249066900, 'prompt_eval_count': 215, 'prompt_eval_duration': 77338484800, 'eval_count': 38, 'eval_duration': 17753812200, 'model_name': 'mistral:7b'}, id='run--62e5a941-2efd-48ee-bf8e-f2b74bfd970f-0', usage_metadata={'input_tokens': 215, 'output_tokens': 38, 'total_tokens': 253})],\n",
       " 'feedback_history': [\"This tweet is approved due to its originality in reversing the phrase 'enlightenment' as 'edgbeg', which stands out from common tweets. The humor lies in the play on words and the subtle twist of the phrase, which can elicit a chuckle or smile from readers. The tweet is short, sharp, and scroll-stopping, fitting well within the 280 character limit. It also doesn't adhere to traditional setup-punchline joke format or end with generic or deflating lines. However, it might not have high virality potential, as the humor may be appreciated more among those who enjoy wordplay and puns.\"]}"
      ]
     },
     "execution_count": 174,
     "metadata": {},
     "output_type": "execute_result"
    }
   ],
   "source": [
    "final_state"
   ]
  }
 ],
 "metadata": {
  "kernelspec": {
   "display_name": "venv",
   "language": "python",
   "name": "python3"
  },
  "language_info": {
   "codemirror_mode": {
    "name": "ipython",
    "version": 3
   },
   "file_extension": ".py",
   "mimetype": "text/x-python",
   "name": "python",
   "nbconvert_exporter": "python",
   "pygments_lexer": "ipython3",
   "version": "3.10.11"
  }
 },
 "nbformat": 4,
 "nbformat_minor": 5
}
